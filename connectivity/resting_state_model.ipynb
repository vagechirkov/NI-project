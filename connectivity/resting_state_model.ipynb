{
 "metadata": {
  "language_info": {
   "codemirror_mode": {
    "name": "ipython",
    "version": 3
   },
   "file_extension": ".py",
   "mimetype": "text/x-python",
   "name": "python",
   "nbconvert_exporter": "python",
   "pygments_lexer": "ipython3",
   "version": "3.7.10"
  },
  "orig_nbformat": 2,
  "kernelspec": {
   "name": "python3710jvsc74a57bd0e237310dbc9943d24dbb1eca31a1058f37cb70b7d8e9a919cf9ee6fd4aa06c45",
   "display_name": "Python 3.7.10 64-bit ('neurolib': conda)"
  },
  "metadata": {
   "interpreter": {
    "hash": "e237310dbc9943d24dbb1eca31a1058f37cb70b7d8e9a919cf9ee6fd4aa06c45"
   }
  }
 },
 "nbformat": 4,
 "nbformat_minor": 2,
 "cells": [
  {
   "cell_type": "code",
   "execution_count": 9,
   "metadata": {},
   "outputs": [],
   "source": [
    "from pathlib import Path\n",
    "from coonectivity_dynamics import evaluate_model\n",
    "from neurolib.utils.loadData import Dataset\n",
    "from neurolib.models.aln import ALNModel\n",
    "from neurolib.utils import functions as func\n",
    "import numpy as np\n",
    "path = Path(\"/Users/valery/Downloads/\")\n",
    "ds = Dataset(\"gw\")"
   ]
  },
  {
   "cell_type": "code",
   "execution_count": 13,
   "metadata": {
    "tags": []
   },
   "outputs": [
    {
     "output_type": "stream",
     "name": "stdout",
     "text": [
      "correlattion 0.6078796033814498\n",
      "correlattion 0.5964365509197217\n",
      "correlattion 0.5902838390743559\n"
     ]
    }
   ],
   "source": [
    "corrs = []\n",
    "for subject in [0, 3, 7]:\n",
    "    cmat = ds.Cmats[subject]\n",
    "    dmat = ds.Dmats[subject]\n",
    "    model = ALNModel(Cmat=cmat, Dmat=dmat)\n",
    "\n",
    "    # add custom parameter for downsampling results\n",
    "    # 10 ms sampling steps for saving data, should be multiple of dt\n",
    "    model.params['save_dt'] = 10.0\n",
    "    model.params[\"tauA\"] = 600.0\n",
    "    model.params[\"sigma_ou\"] = 0.1\n",
    "    model.params[\"b\"] = 20.0\n",
    "\n",
    "    model.params[\"Ke_gl\"] = 300.0\n",
    "    model.params[\"mue_ext_mean\"] = 2.5\n",
    "    model.params[\"mui_ext_mean\"] = 2.0\n",
    "\n",
    "\n",
    "    model.params['dt'] = 0.1\n",
    "    model.params['duration'] = 120 * 1000 #ms\n",
    "    model.params[\"signalV\"] = 80.0\n",
    "\n",
    "    model.run(bold=True)\n",
    "   \n",
    "    fname = f\"resting_state_{subject + 1}_sigma_ou_0.1_mue_ext_mean_2.5_mui_ext_mean_2.0\"\n",
    "    folder = path / fname\n",
    "    folder.mkdir(exist_ok=True)\n",
    "    fc_real = func.fc(ds.BOLDs[subject])\n",
    "    fc = func.fc(model.BOLD.BOLD[:, 10:])\n",
    "    print(f\"correlattion subject {subject + 1} {np.corrcoef(fc_real.flatten(), fc.flatten())[0, 1]}\")\n",
    "    corr = evaluate_model(model, cmat, folder, fname, fc_real=fc_real)\n",
    "    corrs.append(corr)"
   ]
  },
  {
   "cell_type": "code",
   "execution_count": null,
   "metadata": {},
   "outputs": [],
   "source": []
  }
 ]
}