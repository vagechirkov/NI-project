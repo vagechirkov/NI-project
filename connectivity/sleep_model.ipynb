{
 "metadata": {
  "language_info": {
   "codemirror_mode": {
    "name": "ipython",
    "version": 3
   },
   "file_extension": ".py",
   "mimetype": "text/x-python",
   "name": "python",
   "nbconvert_exporter": "python",
   "pygments_lexer": "ipython3",
   "version": "3.7.10"
  },
  "orig_nbformat": 2,
  "kernelspec": {
   "name": "python3",
   "display_name": "Python 3.7.10 64-bit ('neurolib': conda)"
  },
  "metadata": {
   "interpreter": {
    "hash": "e237310dbc9943d24dbb1eca31a1058f37cb70b7d8e9a919cf9ee6fd4aa06c45"
   }
  },
  "interpreter": {
   "hash": "e237310dbc9943d24dbb1eca31a1058f37cb70b7d8e9a919cf9ee6fd4aa06c45"
  }
 },
 "nbformat": 4,
 "nbformat_minor": 2,
 "cells": [
  {
   "cell_type": "code",
   "execution_count": null,
   "metadata": {},
   "outputs": [],
   "source": [
    "import matplotlib.pyplot as plt\n",
    "from mpl_toolkits.axes_grid1 import make_axes_locatable\n",
    "import numpy as np\n",
    "import pandas as pd\n",
    "import seaborn as sns\n",
    "import scipy\n",
    "import mne\n",
    "\n",
    "# NB: add more subjects in the data folder in neurolib package\n",
    "from neurolib.utils.loadData import Dataset\n",
    "from neurolib.models.aln import ALNModel\n",
    "\n",
    "from coonectivity_dynamics import (plot_kuramoto_example,\n",
    "                                   fast_kuramoto)\n",
    "from neurolib.utils import functions as func\n",
    "plt.style.use('seaborn')\n",
    "# sns.set_style(\"whitegrid\")\n",
    "sns.set_style(\"white\")\n",
    "sns.set_context(\"talk\")"
   ]
  },
  {
   "cell_type": "code",
   "execution_count": null,
   "metadata": {},
   "outputs": [],
   "source": [
    "ds = Dataset(\"gw\")\n",
    "# ds.Cmat = ds.Cmats[3]\n",
    "# ds.Dmat = ds.Dmats[3]\n",
    "model = ALNModel(Cmat=ds.Cmat, Dmat=ds.Dmat)\n",
    "\n",
    "# add custom parameter for downsampling results\n",
    "# 10 ms sampling steps for saving data, should be multiple of dt\n",
    "model.params['save_dt'] = 10.0\n",
    "model.params[\"tauA\"] = 600.0\n",
    "model.params[\"sigma_ou\"] = 0.0\n",
    "model.params[\"b\"] = 20.0\n",
    "\n",
    "model.params[\"Ke_gl\"] = 300.0\n",
    "model.params[\"mue_ext_mean\"] = 0.2\n",
    "model.params[\"mui_ext_mean\"] = 0.1\n",
    "\n",
    "# Sleep model from newest evolution October 2020\n",
    "model.params[\"mue_ext_mean\"] = 3.3202829454334535\n",
    "model.params[\"mui_ext_mean\"] = 3.682451894176651\n",
    "model.params[\"b\"] =  3.2021806735984186\n",
    "model.params[\"tauA\"] = 4765.3385276559875\n",
    "model.params[\"sigma_ou\"] = 0.36802952978628106\n",
    "model.params[\"Ke_gl\"] = 265.48075753153\n",
    "\n",
    "# SCZ\n",
    "model.params[\"Ke_gl\"] = 200.\n",
    "model.params[\"mue_ext_mean\"] = 3.55\n",
    "model.params[\"Jie_max\"] =  2.37 # 1.91 #\n",
    "model.params[\"Jei_max\"] = -3.16 #  -2.87 # \n",
    "model.params[\"Jii_max\"] = -1.50 # -1.21 #\n",
    "\n",
    "\n",
    "model.params['dt'] = 0.1\n",
    "model.params['duration'] = 60 * 1000 #ms\n",
    "model.params[\"signalV\"] = 80.0\n",
    "\n",
    "model.run(bold=True)"
   ]
  },
  {
   "cell_type": "code",
   "execution_count": null,
   "metadata": {},
   "outputs": [],
   "source": [
    "path = \"/Users/valery/Downloads/\""
   ]
  },
  {
   "cell_type": "code",
   "execution_count": null,
   "metadata": {},
   "outputs": [],
   "source": [
    "ds = Dataset(\"gw\")\n",
    "# ds.Cmat = ds.Cmats[3]\n",
    "# ds.Dmat = ds.Dmats[3]\n",
    "model = ALNModel(Cmat=ds.Cmat, Dmat=ds.Dmat)\n",
    "\n",
    "for mu in [3.32, 3.6, 3.8, 4.0, 4.2]:\n",
    "    # add custom parameter for downsampling results\n",
    "    # 10 ms sampling steps for saving data, should be multiple of dt\n",
    "    model.params['save_dt'] = 10.0\n",
    "    model.params[\"tauA\"] = 600.0\n",
    "    model.params[\"sigma_ou\"] = 0.0\n",
    "    model.params[\"b\"] = 20.0\n",
    "\n",
    "    model.params[\"Ke_gl\"] = 300.0\n",
    "    model.params[\"mue_ext_mean\"] = 0.2\n",
    "    model.params[\"mui_ext_mean\"] = 0.1\n",
    "\n",
    "    # Sleep model from newest evolution October 2020\n",
    "    model.params[\"mue_ext_mean\"] = 3.3202829454334535\n",
    "    model.params[\"mui_ext_mean\"] = 3.682451894176651\n",
    "    model.params[\"b\"] =  3.2021806735984186\n",
    "    model.params[\"tauA\"] = 4765.3385276559875\n",
    "    model.params[\"sigma_ou\"] = 0.36802952978628106\n",
    "    model.params[\"Ke_gl\"] = 265.48075753153\n",
    "\n",
    "    # SCZ\n",
    "    model.params[\"Ke_gl\"] = 200.\n",
    "    model.params[\"mue_ext_mean\"] = mu\n",
    "    model.params[\"Jie_max\"] =  2.37 # 1.91 #\n",
    "    model.params[\"Jei_max\"] = -3.16 #  -2.87 # \n",
    "    model.params[\"Jii_max\"] = -1.50 # -1.21 #\n",
    "\n",
    "\n",
    "    model.params['dt'] = 0.1\n",
    "    model.params['duration'] = 60 * 1000 #ms\n",
    "    model.params[\"signalV\"] = 80.0\n",
    "\n",
    "    model.run(bold=True)\n",
    "\n",
    "    plt.figure(figsize=(15, 5))\n",
    "    plt.imshow(\n",
    "                model.output, aspect=\"auto\", extent=[0, model.t[-1] / 1000, model.params.N, 0],\n",
    "                clim=(0, 20), cmap=\"viridis\", \n",
    "            )\n",
    "    cbar = plt.colorbar(extend='max', fraction=0.046, pad=0.04)\n",
    "    cbar.set_label(\"Rate $r_{exc}$ [Hz]\")\n",
    "    plt.ylabel(\"Node\")\n",
    "    plt.xlabel(\"Time [s]\")\n",
    "    plt.tight_layout()\n",
    "    plt.savefig(path + f\"sleep_ts_mu_{mu}.png\", dpi=100)\n",
    "    plt.close()\n",
    "\n",
    "    atlas = atlases.AutomatedAnatomicalParcellation2()\n",
    "\n",
    "    states = bp.detectSWs(model, filter_long=True)\n",
    "\n",
    "    #involvement =  1 - np.sum(states, axis=0) / states.shape[0]\n",
    "    involvement = bp.get_involvement(states)\n",
    "\n",
    "    area_downtimes, area_uptimes = bp.plot_state_brain_areas(model, states, atlas, ds)"
   ]
  },
  {
   "cell_type": "code",
   "execution_count": null,
   "metadata": {},
   "outputs": [],
   "source": [
    "plt.figure(figsize=(15, 5))\n",
    "plt.imshow(\n",
    "            model.output, aspect=\"auto\", extent=[0, model.t[-1] / 1000, model.params.N, 0],\n",
    "            clim=(0, 20), cmap=\"viridis\", \n",
    "        )\n",
    "cbar = plt.colorbar(extend='max', fraction=0.046, pad=0.04)\n",
    "cbar.set_label(\"Rate $r_{exc}$ [Hz]\")\n",
    "plt.ylabel(\"Node\")\n",
    "plt.xlabel(\"Time [s]\")\n",
    "plt.tight_layout()\n",
    "plt.savefig(path + \"sleep_ts.png\", dpi=100)"
   ]
  },
  {
   "source": [
    "# PLV"
   ],
   "cell_type": "markdown",
   "metadata": {}
  },
  {
   "cell_type": "code",
   "execution_count": null,
   "metadata": {},
   "outputs": [],
   "source": [
    "%%time\n",
    "data = model.rates_exc\n",
    "\n",
    "# sfreq = 1000 ??\n",
    "con, freqs, times, n_epochs, n_tapers = mne.connectivity.spectral_connectivity(\n",
    "    np.split(data, 12, axis=1), method='plv', \n",
    "    sfreq=10000, fmin=(0, 4, 8, 13, 30),\n",
    "    fmax=(4, 8, 12, 30, 70), faverage=True)"
   ]
  },
  {
   "cell_type": "code",
   "execution_count": null,
   "metadata": {},
   "outputs": [],
   "source": [
    "fig, ax = plt.subplots(1, 5, figsize=(20, 10), sharey=True)\n",
    "\n",
    "\n",
    "for i, (_ax, freq_label) in enumerate(zip(ax, (\"0-4Hz\", \"4-8Hz\", \"8-12Hz\", \"13-30Hz\", \"30-70Hz\"))):\n",
    "    con[:,:,i][np.triu_indices(80)] = con[:,:,i].T[np.triu_indices(80)]\n",
    "    im = _ax.imshow(con[:,:,i], clim=(0, 1), cmap=\"viridis\")\n",
    "    _ax.set_title(f'Frequency band: {freq_label}')\n",
    "    if i == 0:\n",
    "        _ax.set_ylabel(\"Node\")\n",
    "    _ax.set_xlabel(\"Node\")\n",
    "    plt.tight_layout()\n",
    "\n",
    "divider = make_axes_locatable(_ax)\n",
    "cax = divider.append_axes(\"right\", size=\"5%\", pad=0.1)\n",
    "\n",
    "cbar = plt.colorbar(im, cax=cax)\n",
    "cbar.set_label(\"Phase-Locking Value\")\n",
    "plt.tight_layout()\n",
    "plt.savefig(path + \"plv_freq_bands.png\", dpi=100)\n"
   ]
  },
  {
   "source": [
    "# Kuramoto"
   ],
   "cell_type": "markdown",
   "metadata": {}
  },
  {
   "cell_type": "code",
   "execution_count": null,
   "metadata": {},
   "outputs": [],
   "source": [
    "# %%time\n",
    "# mkur = np.zeros((80, 80))\n",
    "# stdkur = np.zeros((80, 80))\n",
    "# \n",
    "# for i, j in zip(np.tril_indices(80)[0], np.tril_indices(80)[1]):\n",
    "#     kur = fast_kuramoto(np.array([data[i, :200_000], data[j, :200_000]]))\n",
    "#     mkur[i, j] = kur.mean()\n",
    "#     stdkur[i, j] = kur.std()\n"
   ]
  },
  {
   "cell_type": "code",
   "execution_count": null,
   "metadata": {},
   "outputs": [],
   "source": [
    "plt.figure(figsize=(6, 6))\n",
    "plt.imshow(mkur, clim=(0, 1), cmap=\"viridis\")\n",
    "cbar = plt.colorbar(fraction=0.046, pad=0.04)\n",
    "cbar.set_label(\"Mean Kuramoto\")\n",
    "plt.ylabel(\"Node\")\n",
    "plt.xlabel(\"Node\")\n",
    "plt.tight_layout()\n",
    "plt.savefig(path + \"mean_kuramoto.png\", dpi=100)"
   ]
  },
  {
   "source": [
    "plt.figure(figsize=(6, 6))\n",
    "plt.imshow(stdkur, clim=(0, 1), cmap=\"viridis\")\n",
    "cbar = plt.colorbar(fraction=0.046, pad=0.04)\n",
    "cbar.set_label(\"STD Kuramoto\")\n",
    "plt.ylabel(\"Node\")\n",
    "plt.xlabel(\"Node\")\n",
    "plt.tight_layout()\n",
    "plt.savefig(path + \"std_kuramoto.png\", dpi=100)"
   ],
   "cell_type": "code",
   "metadata": {},
   "execution_count": null,
   "outputs": []
  },
  {
   "source": [
    "# DTW"
   ],
   "cell_type": "markdown",
   "metadata": {}
  },
  {
   "cell_type": "code",
   "execution_count": null,
   "metadata": {},
   "outputs": [],
   "source": [
    "from fastdtw import fastdtw"
   ]
  },
  {
   "cell_type": "code",
   "execution_count": null,
   "metadata": {},
   "outputs": [],
   "source": [
    "%%time\n",
    "data = model.rates_exc\n",
    "dtw = np.zeros((80, 80))\n",
    "\n",
    "for i, j in zip(np.tril_indices(80)[0], np.tril_indices(80)[1]):\n",
    "    distance, _ = fastdtw(data[i, ::100][:10_000], data[j, ::100][:10_000])\n",
    "    dtw[i, j] = distance"
   ]
  },
  {
   "cell_type": "code",
   "execution_count": null,
   "metadata": {},
   "outputs": [],
   "source": [
    "dtw_norm = 1 - dtw/dtw.max()\n",
    "dtw_norm[np.triu_indices(80)] = dtw_norm.T[np.triu_indices(80)]"
   ]
  },
  {
   "cell_type": "code",
   "execution_count": null,
   "metadata": {},
   "outputs": [],
   "source": [
    "plt.figure(figsize=(6, 6))\n",
    "plt.imshow(dtw_norm, clim=(0, 1), cmap=\"viridis\")\n",
    "cbar = plt.colorbar(fraction=0.046, pad=0.04)\n",
    "cbar.set_label(\"Absolute distance\")\n",
    "plt.ylabel(\"Node\")\n",
    "plt.xlabel(\"Node\")\n",
    "plt.title(\"Dynamic Time Warping\")\n",
    "plt.tight_layout()\n",
    "plt.savefig(path + \"dtw_norm.png\", dpi=100)"
   ]
  },
  {
   "source": [
    "# FC"
   ],
   "cell_type": "markdown",
   "metadata": {}
  },
  {
   "cell_type": "code",
   "execution_count": null,
   "metadata": {},
   "outputs": [],
   "source": [
    "plt.figure(figsize=(6, 6))\n",
    "plt.imshow(func.fc(model.BOLD.BOLD[:, 10:]), clim=(0, 1), cmap=\"viridis\")\n",
    "cbar = plt.colorbar(fraction=0.046, pad=0.04)\n",
    "# cbar.set_label(\"Absolute distance\")\n",
    "plt.ylabel(\"Node\")\n",
    "plt.xlabel(\"Node\")\n",
    "plt.title(\"BOLD FC\")\n",
    "plt.tight_layout()\n",
    "plt.savefig(path + \"bold_fc.png\", dpi=100)"
   ]
  },
  {
   "cell_type": "code",
   "execution_count": null,
   "metadata": {},
   "outputs": [],
   "source": []
  },
  {
   "source": [
    "# States"
   ],
   "cell_type": "markdown",
   "metadata": {}
  },
  {
   "cell_type": "code",
   "execution_count": null,
   "metadata": {},
   "outputs": [],
   "source": [
    "import brainplot as bp\n",
    "from neurolib.utils import atlases\n",
    "atlas = atlases.AutomatedAnatomicalParcellation2()\n",
    "\n",
    "states = bp.detectSWs(model, filter_long=True)\n",
    "\n",
    "#involvement =  1 - np.sum(states, axis=0) / states.shape[0]\n",
    "involvement = bp.get_involvement(states)"
   ]
  },
  {
   "cell_type": "code",
   "execution_count": null,
   "metadata": {},
   "outputs": [],
   "source": [
    "bp.plot_states_timeseries(model, states, cmap=\"plasma\")"
   ]
  },
  {
   "cell_type": "code",
   "execution_count": null,
   "metadata": {},
   "outputs": [],
   "source": [
    "area_downtimes, area_uptimes = bp.plot_state_brain_areas(model, states, atlas, ds)"
   ]
  },
  {
   "source": [
    " # Involvment\n",
    " SEE: https://github.com/caglarcakan/sleeping_brain/blob/main/notebooks/RESULT-sleep-model.ipynb"
   ],
   "cell_type": "markdown",
   "metadata": {}
  },
  {
   "cell_type": "code",
   "execution_count": null,
   "metadata": {},
   "outputs": [],
   "source": [
    "import xarray as xr\n",
    "from neurolib.utils.signal import Signal\n",
    "\n",
    "inv_xr = xr.DataArray(involvement, coords=[model.t], dims=[ \"time\"])\n",
    "sig = Signal(inv_xr, time_in_ms=True)\n",
    "\n",
    "def get_phase(signal, filter_args, pad=None):\n",
    "    \"\"\"\n",
    "    Extract phase of the signal. Steps: detrend -> pad -> filter -> Hilbert\n",
    "    transform -> get phase -> un-pad.\n",
    "    :param signal: signal to get phase from\n",
    "    :type signal: `neuro_signal.Signal`\n",
    "    :param filter_args: arguments for `Signal`'s filter method (see its\n",
    "        docstring)\n",
    "    :type filter_args: dict\n",
    "    :param pad: how many seconds to pad, if None, won't pad\n",
    "    :type pad: float|None\n",
    "    :return: wrapped Hilbert phase of the signal\n",
    "    :rtype: `neuro_signal.Signal`\n",
    "    \"\"\"\n",
    "    assert isinstance(signal, Signal)\n",
    "    phase = signal.detrend(inplace=False)\n",
    "    if pad:\n",
    "        phase.pad(\n",
    "            how_much=pad, in_seconds=True, padding_type=\"reflect\", side=\"both\"\n",
    "        )\n",
    "    phase.filter(**filter_args)\n",
    "    phase.hilbert_transform(return_as=\"phase_wrapped\")\n",
    "    if pad:\n",
    "        phase.sel([phase.start_time + pad, phase.end_time - pad])\n",
    "    return phase\n",
    "\n",
    "phase = get_phase(sig, filter_args={\"low_freq\": 0.5, \"high_freq\": 2})\n",
    "node_mean_phases_down, node_mean_phases_up = bp.get_transition_phases(states, phase.data)\n",
    "node_mean_phases_down = np.array(node_mean_phases_down)\n",
    "node_mean_phases_up = np.array(node_mean_phases_up)"
   ]
  },
  {
   "cell_type": "code",
   "execution_count": null,
   "metadata": {},
   "outputs": [],
   "source": [
    "# modulo all up phases with positive pi, and vice versa\n",
    "if np.any(node_mean_phases_up<0) or np.any(node_mean_phases_down>0):\n",
    "    print(\"Modulo was necessary\")\n",
    "node_mean_phases_up= np.mod(node_mean_phases_up, np.pi)\n",
    "node_mean_phases_down = np.mod(node_mean_phases_down, -np.pi)"
   ]
  },
  {
   "source": [
    "# Correlations"
   ],
   "cell_type": "markdown",
   "metadata": {}
  },
  {
   "cell_type": "code",
   "execution_count": null,
   "metadata": {},
   "outputs": [],
   "source": [
    "mean_states =  np.mean(states, axis=1) #  * 1000\n",
    "len_states = np.sum(states, axis=1) * model.params.dt / 1000\n",
    "\n",
    "normalized_down_lengths = model.params.duration / 1000 - len_states\n",
    "normalized_down_lengths = normalized_down_lengths / (model.params.duration / 1000) * 100 # to percent\n",
    "plt.hist(normalized_down_lengths)\n",
    "plt.xlabel('Time spent in down state [%]')\n",
    "plt.tight_layout()\n",
    "plt.savefig(path + \"time_spent_in_down.png\")\n"
   ]
  },
  {
   "cell_type": "code",
   "execution_count": null,
   "metadata": {},
   "outputs": [],
   "source": [
    "normalized_down_lengths = 1 - normalized_down_lengths/100"
   ]
  },
  {
   "cell_type": "code",
   "execution_count": null,
   "metadata": {},
   "outputs": [],
   "source": [
    "from connectivity import (plot_graph_circos, make_graph, \n",
    "                          graph_measures, z_scores,\n",
    "                          similarity_between_subjects, is_symmetric)\n",
    "\n",
    "columns = ['mean_degree', 'degree', 'closeness', 'betweenness',\n",
    "           'mean_shortest_path', 'neighbor_degree', 'neighbor_degree_new', 'clustering_coefficient', 'omega', 'sigma',\n",
    "           'mean_clustering_coefficient', 'backbone', 'Cmat', 'Dmat']\n",
    "df = pd.DataFrame(columns=columns)\n",
    "\n",
    "\n",
    "G = make_graph(ds.Cmat)\n",
    "G, gm = graph_measures(G) # , dmat\n",
    "df.loc[0] = gm\n",
    "\n",
    "results_sc =  pd.DataFrame(df.loc[0, ['degree', 'closeness', 'betweenness', 'neighbor_degree_new', 'clustering_coefficient']].to_dict())\n",
    "results_sc.columns = ['degree_sc', 'closeness_sc', 'betweenness_sc', 'neighbor_sc', 'clustering_sc']\n",
    "\n",
    "df = pd.DataFrame(columns=columns)\n",
    "\n",
    "fc = func.fc(model.BOLD.BOLD[:, 10:])\n",
    "fc[fc<0] = 0\n",
    "G = make_graph(fc)\n",
    "G, gm = graph_measures(G) # , dmat\n",
    "df.loc[0] = gm\n",
    "results_fc =  pd.DataFrame(df.loc[0, ['degree', 'closeness', 'betweenness', 'neighbor_degree_new', 'clustering_coefficient']].to_dict())\n",
    "results_fc.columns = ['degree_fc', 'closeness_fc', 'betweenness_fc', 'neighbor_fc', 'clustering_fc']\n",
    "\n",
    "\n",
    "results = pd.concat([results_sc, results_fc], axis=1)\n",
    "\n",
    "for i, freq in enumerate([\"0-4Hz\", \"4-8Hz\", \"8-12Hz\", \"13-30Hz\", \"30-70Hz\"]):\n",
    "    G = make_graph(con[:,:,i])\n",
    "    G, gm = graph_measures(G) # , dmat\n",
    "    df = pd.DataFrame(columns=columns)\n",
    "    df.loc[0] = gm\n",
    "    results_plv =  pd.DataFrame(df.loc[0, ['degree', ]].to_dict())\n",
    "    results_plv.columns = [f'degree_plv_{freq}']\n",
    "    results = pd.concat([results, results_plv], axis=1)\n",
    "\n",
    "G = make_graph(dtw_norm)\n",
    "G, gm = graph_measures(G) # , dmat\n",
    "df = pd.DataFrame(columns=columns)\n",
    "df.loc[0] = gm\n",
    "results_dtw =  pd.DataFrame(df.loc[0, ['degree', ]].to_dict())\n",
    "results_dtw.columns = [f'degree_dtw']\n",
    "results = pd.concat([results, results_dtw], axis=1)"
   ]
  },
  {
   "cell_type": "code",
   "execution_count": null,
   "metadata": {},
   "outputs": [],
   "source": [
    "results.loc[:, 'time_up'] = normalized_down_lengths\n",
    "results.loc[:, 'phases_up'] = node_mean_phases_up\n",
    "results.loc[:, 'phases_down'] = node_mean_phases_down"
   ]
  },
  {
   "cell_type": "code",
   "execution_count": null,
   "metadata": {},
   "outputs": [],
   "source": [
    "corr = results.corr()\n",
    "mask = np.zeros_like(corr)\n",
    "mask[np.triu_indices_from(mask)] = True\n",
    "cmap = sns.diverging_palette(250, 10, as_cmap=True)\n",
    "with sns.axes_style(\"white\"):\n",
    "    f, ax = plt.subplots(figsize=(20, 18))\n",
    "    ax = sns.heatmap(corr, cmap=cmap, #  mask=mask,\n",
    "                     vmax=1., vmin=-1., square=True, annot=True)\n",
    "    # plt.xticks(rotation=60)\n",
    "plt.tight_layout()\n",
    "plt.savefig(path + \"correlations.png\")"
   ]
  },
  {
   "cell_type": "code",
   "execution_count": null,
   "metadata": {},
   "outputs": [],
   "source": [
    "sns.clustermap(corr, cmap=cmap, vmax=1., vmin=-1.)\n",
    "plt.tight_layout()\n",
    "plt.savefig(path + \"correlations_clustes.png\")"
   ]
  },
  {
   "cell_type": "code",
   "execution_count": null,
   "metadata": {},
   "outputs": [],
   "source": [
    "corr = corr - corr_mean\n",
    "mask = np.zeros_like(corr)\n",
    "mask[np.triu_indices_from(mask)] = True\n",
    "cmap = sns.diverging_palette(250, 10, as_cmap=True)\n",
    "with sns.axes_style(\"white\"):\n",
    "    f, ax = plt.subplots(figsize=(20, 18))\n",
    "    ax = sns.heatmap(corr, cmap=cmap, #  mask=mask,\n",
    "                     vmax=1., vmin=-1., square=True, annot=True)\n",
    "    # plt.xticks(rotation=60)\n",
    "plt.tight_layout()\n",
    "plt.savefig(path + \"correlations_mean.png\")"
   ]
  },
  {
   "cell_type": "code",
   "execution_count": null,
   "metadata": {},
   "outputs": [],
   "source": [
    "sns.clustermap(corr, cmap=cmap, vmax=1., vmin=-1.)\n",
    "plt.tight_layout()\n",
    "plt.savefig(path + \"correlations_clustes_mean.png\")"
   ]
  },
  {
   "cell_type": "code",
   "execution_count": null,
   "metadata": {},
   "outputs": [],
   "source": [
    "# corr_mean = corr.copy()"
   ]
  },
  {
   "cell_type": "code",
   "execution_count": null,
   "metadata": {},
   "outputs": [],
   "source": []
  }
 ]
}