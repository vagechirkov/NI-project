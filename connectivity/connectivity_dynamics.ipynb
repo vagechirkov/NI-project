{
 "metadata": {
  "language_info": {
   "codemirror_mode": {
    "name": "ipython",
    "version": 3
   },
   "file_extension": ".py",
   "mimetype": "text/x-python",
   "name": "python",
   "nbconvert_exporter": "python",
   "pygments_lexer": "ipython3",
   "version": "3.7.10"
  },
  "orig_nbformat": 2,
  "kernelspec": {
   "name": "python3710jvsc74a57bd0e237310dbc9943d24dbb1eca31a1058f37cb70b7d8e9a919cf9ee6fd4aa06c45",
   "display_name": "Python 3.7.10 64-bit ('neurolib': conda)"
  },
  "metadata": {
   "interpreter": {
    "hash": "e237310dbc9943d24dbb1eca31a1058f37cb70b7d8e9a919cf9ee6fd4aa06c45"
   }
  }
 },
 "nbformat": 4,
 "nbformat_minor": 2,
 "cells": [
  {
   "cell_type": "code",
   "execution_count": null,
   "metadata": {},
   "outputs": [],
   "source": [
    "import matplotlib.pyplot as plt\n",
    "import numpy as np\n",
    "import pandas as pd\n",
    "import seaborn as sns\n",
    "import scipy\n",
    "\n",
    "# NB: add more subjects in the data folder in neurolib package\n",
    "from neurolib.utils.loadData import Dataset\n",
    "from neurolib.models.aln import ALNModel\n",
    "\n",
    "from coonectivity_dynamics import (plot_kuramoto_example, kuramoto,\n",
    "                                   fast_kuramoto)\n",
    "plt.style.use('seaborn')\n",
    "sns.set_style(\"whitegrid\")\n",
    "sns.set_context(\"talk\")"
   ]
  },
  {
   "cell_type": "code",
   "execution_count": null,
   "metadata": {},
   "outputs": [],
   "source": [
    "ds = Dataset(\"gw\")\n",
    "model = ALNModel(Cmat=ds.Cmats[26], Dmat=ds.Dmats[26])\n",
    "model.params['dt'] = 0.1\n",
    "model.params['duration'] = 20 * 1000  # ms\n",
    "\n",
    "# add custom parameter for downsampling results\n",
    "# 10 ms sampling steps for saving data, should be multiple of dt\n",
    "model.params['save_dt'] = 10.0\n",
    "model.params[\"tauA\"] = 600.0\n",
    "model.params[\"sigma_ou\"] = 0.0\n",
    "model.params[\"b\"] = 20.0\n",
    "\n",
    "model.params[\"Ke_gl\"] = 300.0\n",
    "model.params[\"signalV\"] = 80.0\n",
    "model.params[\"mue_ext_mean\"] = 1.5\n",
    "model.params[\"mui_ext_mean\"] = 0.2\n"
   ]
  },
  {
   "cell_type": "code",
   "execution_count": null,
   "metadata": {},
   "outputs": [],
   "source": [
    "model.run()"
   ]
  },
  {
   "cell_type": "code",
   "execution_count": null,
   "metadata": {},
   "outputs": [],
   "source": [
    "model.default_output"
   ]
  },
  {
   "cell_type": "code",
   "execution_count": null,
   "metadata": {},
   "outputs": [],
   "source": [
    "plt.figure(figsize=(12, 6))\n",
    "plt.imshow(model.rates_exc[:, :10000], aspect='auto') # Aspect=1.2"
   ]
  },
  {
   "cell_type": "code",
   "execution_count": null,
   "metadata": {},
   "outputs": [],
   "source": [
    "plot_kuramoto_example(model.rates_exc[:4, 5000:15_000])"
   ]
  },
  {
   "source": [
    "### Check the time profile of the kuramoto estimation function"
   ],
   "cell_type": "markdown",
   "metadata": {}
  },
  {
   "cell_type": "code",
   "execution_count": null,
   "metadata": {
    "tags": []
   },
   "outputs": [],
   "source": [
    "from line_profiler import LineProfiler\n",
    "lp = LineProfiler()\n",
    "lp_wrapper = lp(kuramoto)\n",
    "kur = lp_wrapper(model.rates_exc[::10])\n",
    "lp.print_stats()"
   ]
  },
  {
   "cell_type": "code",
   "execution_count": null,
   "metadata": {},
   "outputs": [],
   "source": [
    "%%time\n",
    "kur1 = fast_kuramoto(model.rates_exc[::10][:, :10_000])\n"
   ]
  },
  {
   "cell_type": "code",
   "execution_count": null,
   "metadata": {},
   "outputs": [],
   "source": [
    "%%time\n",
    "kur2 = kuramoto(model.rates_exc[::10][:, :10_000])"
   ]
  },
  {
   "cell_type": "code",
   "execution_count": null,
   "metadata": {},
   "outputs": [],
   "source": [
    "np.corrcoef(kur1, kur2)"
   ]
  },
  {
   "cell_type": "code",
   "execution_count": null,
   "metadata": {},
   "outputs": [],
   "source": []
  }
 ]
}