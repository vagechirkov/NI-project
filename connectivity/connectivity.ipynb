{
 "metadata": {
  "language_info": {
   "codemirror_mode": {
    "name": "ipython",
    "version": 3
   },
   "file_extension": ".py",
   "mimetype": "text/x-python",
   "name": "python",
   "nbconvert_exporter": "python",
   "pygments_lexer": "ipython3",
   "version": "3.7.10"
  },
  "orig_nbformat": 2,
  "kernelspec": {
   "name": "python3710jvsc74a57bd0e237310dbc9943d24dbb1eca31a1058f37cb70b7d8e9a919cf9ee6fd4aa06c45",
   "display_name": "Python 3.7.10 64-bit ('neurolib': conda)"
  },
  "metadata": {
   "interpreter": {
    "hash": "e237310dbc9943d24dbb1eca31a1058f37cb70b7d8e9a919cf9ee6fd4aa06c45"
   }
  }
 },
 "nbformat": 4,
 "nbformat_minor": 2,
 "cells": [
  {
   "cell_type": "code",
   "execution_count": null,
   "metadata": {},
   "outputs": [],
   "source": [
    "import matplotlib.pyplot as plt\n",
    "import numpy as np\n",
    "import pandas as pd\n",
    "import seaborn as sns\n",
    "\n",
    "from connectivity import (plot_graph_circos, make_graph, \n",
    "                          graph_measures, z_scores,\n",
    "                          similarity_between_subjects)\n",
    "# NB: add more subjects in the data folder in neurolib package\n",
    "from neurolib.utils.loadData import Dataset"
   ]
  },
  {
   "cell_type": "code",
   "execution_count": null,
   "metadata": {},
   "outputs": [],
   "source": [
    "%%time\n",
    "# NB: add more subjects in the data folder in neurolib package\n",
    "ds = Dataset(\"gw\")\n",
    "columns = ['mean_degree', 'degree', 'closeness', 'betweenness',\n",
    "           'mean_shortest_path', 'neighbor_degree', 'clustering_coefficient',\n",
    "           'mean_clustering_coefficient', 'backbone', 'Cmat', 'Dmat']\n",
    "df = pd.DataFrame(columns=columns)\n",
    "\n",
    "for n, (cmat, dmat) in enumerate(zip([ds.Cmat] + ds.Cmats, [ds.Dmat] + ds.Dmats)):\n",
    "    G = make_graph(cmat)\n",
    "    G, gm = graph_measures(G, dmat)\n",
    "    gm['Cmat'] = cmat\n",
    "    gm['Dmat'] = dmat\n",
    "    df.loc[n] = gm\n",
    "df.head()"
   ]
  },
  {
   "cell_type": "code",
   "execution_count": null,
   "metadata": {},
   "outputs": [],
   "source": [
    "df.columns"
   ]
  },
  {
   "cell_type": "code",
   "execution_count": null,
   "metadata": {},
   "outputs": [],
   "source": [
    "df_z = z_scores(df)\n",
    "df_corr = similarity_between_subjects(df)"
   ]
  },
  {
   "cell_type": "code",
   "execution_count": null,
   "metadata": {},
   "outputs": [],
   "source": [
    "plt.figure(figsize=(15,5))\n",
    "melted_df = pd.melt(df_z, id_vars=['subject'])\n",
    "sns.boxplot(data=melted_df, x='value', y='variable', showfliers=False)\n",
    "plt.xlabel('Z-score')\n",
    "plt.ylabel('')\n",
    "plt.title('Distribution of measurements between participants')\n",
    "plt.show()"
   ]
  },
  {
   "cell_type": "code",
   "execution_count": null,
   "metadata": {},
   "outputs": [],
   "source": [
    "plt.figure(figsize=(15,5))\n",
    "melted_df = pd.melt(df_corr, id_vars=['subject'])\n",
    "sns.boxplot(data=melted_df, x='value', y='variable', showfliers=False)\n",
    "plt.xlabel('Correlation')\n",
    "plt.ylabel('')\n",
    "plt.title('Correlation to the average measurements')\n",
    "plt.show()"
   ]
  },
  {
   "cell_type": "code",
   "execution_count": null,
   "metadata": {},
   "outputs": [],
   "source": [
    "# Classtermap similarity between participants and measurements\n",
    "sns.clustermap(df_corr.iloc[:, 1:])\n",
    "plt.show()"
   ]
  },
  {
   "cell_type": "code",
   "execution_count": null,
   "metadata": {},
   "outputs": [],
   "source": [
    "# Structural connectivity average Cmap\n",
    "G = make_graph(df.loc[0, 'Cmat'])\n",
    "plot_graph_circos(G)"
   ]
  },
  {
   "cell_type": "code",
   "execution_count": null,
   "metadata": {},
   "outputs": [],
   "source": [
    "# Structural connectivity subject 26\n",
    "G = make_graph(df.loc[27, 'Cmat'])\n",
    "plot_graph_circos(G)"
   ]
  },
  {
   "cell_type": "code",
   "execution_count": null,
   "metadata": {},
   "outputs": [],
   "source": []
  }
 ]
}