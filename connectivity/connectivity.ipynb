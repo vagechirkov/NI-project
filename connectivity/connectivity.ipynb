{
 "metadata": {
  "language_info": {
   "codemirror_mode": {
    "name": "ipython",
    "version": 3
   },
   "file_extension": ".py",
   "mimetype": "text/x-python",
   "name": "python",
   "nbconvert_exporter": "python",
   "pygments_lexer": "ipython3",
   "version": "3.7.10"
  },
  "orig_nbformat": 2,
  "kernelspec": {
   "name": "python3710jvsc74a57bd0e237310dbc9943d24dbb1eca31a1058f37cb70b7d8e9a919cf9ee6fd4aa06c45",
   "display_name": "Python 3.7.10 64-bit ('neurolib': conda)"
  },
  "metadata": {
   "interpreter": {
    "hash": "e237310dbc9943d24dbb1eca31a1058f37cb70b7d8e9a919cf9ee6fd4aa06c45"
   }
  }
 },
 "nbformat": 4,
 "nbformat_minor": 2,
 "cells": [
  {
   "cell_type": "code",
   "execution_count": null,
   "metadata": {},
   "outputs": [],
   "source": [
    "import matplotlib.pyplot as plt\n",
    "import numpy as np\n",
    "import pandas as pd\n",
    "import seaborn as sns\n",
    "\n",
    "from connectivity import (plot_graph_circos, make_graph, \n",
    "                          graph_measures, z_scores,\n",
    "                          similarity_between_subjects)\n",
    "# NB: add more subjects in the data folder in neurolib package\n",
    "from neurolib.utils.loadData import Dataset"
   ]
  },
  {
   "cell_type": "code",
   "execution_count": null,
   "metadata": {},
   "outputs": [],
   "source": [
    "%%time\n",
    "# NB: add more subjects in the data folder in neurolib package\n",
    "ds = Dataset(\"gw\")\n",
    "columns = ['mean_degree', 'degree', 'closeness', 'betweenness',\n",
    "           'mean_shortest_path', 'neighbor_degree', 'clustering_coefficient',\n",
    "           'mean_clustering_coefficient', 'backbone', 'Cmat', 'Dmat']\n",
    "df = pd.DataFrame(columns=columns)\n",
    "\n",
    "for n, (cmat, dmat) in enumerate(zip([ds.Cmat] + ds.Cmats, [ds.Dmat] + ds.Dmats)):\n",
    "    G = make_graph(cmat)\n",
    "    G, gm = graph_measures(G) # , dmat\n",
    "    gm['Cmat'] = cmat\n",
    "    gm['Dmat'] = dmat\n",
    "    df.loc[n] = gm\n",
    "df.head()"
   ]
  },
  {
   "cell_type": "code",
   "execution_count": null,
   "metadata": {},
   "outputs": [],
   "source": [
    "df.columns"
   ]
  },
  {
   "source": [
    "# Correlations"
   ],
   "cell_type": "markdown",
   "metadata": {}
  },
  {
   "cell_type": "code",
   "execution_count": null,
   "metadata": {},
   "outputs": [],
   "source": [
    "cmat_upper = np.array([df['Cmat'][i][np.triu_indices(80)].flatten().tolist() for i in range(1, 27)])\n",
    "cmat_upper_corr = np.corrcoef(cmat_upper)\n",
    "plt.figure(figsize = (7, 7))\n",
    "_ = sns.heatmap(cmat_upper_corr, cmap='coolwarm', cbar=True, square=True)\n",
    "cmat_upper_corr[np.triu_indices(26)].mean()"
   ]
  },
  {
   "cell_type": "code",
   "execution_count": null,
   "metadata": {},
   "outputs": [],
   "source": [
    "dmat_upper = np.array([df['Dmat'][i][np.triu_indices(80)].flatten().tolist() for i in range(1, 27)])\n",
    "dmat_upper_corr = np.corrcoef(dmat_upper)\n",
    "plt.figure(figsize = (7, 7))\n",
    "_ = sns.heatmap(dmat_upper_corr, cmap='coolwarm', cbar=True, square=True)\n",
    "dmat_upper_corr[np.triu_indices(26)].mean()"
   ]
  },
  {
   "source": [
    "# Inter-subject variability"
   ],
   "cell_type": "markdown",
   "metadata": {}
  },
  {
   "cell_type": "code",
   "execution_count": null,
   "metadata": {},
   "outputs": [],
   "source": [
    "cmats = np.array([df.loc[i, 'Cmat'] for i in range(1, 27)])"
   ]
  },
  {
   "cell_type": "code",
   "execution_count": null,
   "metadata": {},
   "outputs": [],
   "source": [
    "coefficient_of_variation = cmats.std(axis=0) / cmats.mean(axis=0)\n",
    "np.fill_diagonal(coefficient_of_variation, 0)"
   ]
  },
  {
   "cell_type": "code",
   "execution_count": null,
   "metadata": {},
   "outputs": [],
   "source": [
    "plt.figure(figsize = (18, 7))\n",
    "heatmap = sns.heatmap(coefficient_of_variation, cmap='coolwarm', cbar=True, square=True, \n",
    "                      cbar_kws={\"label\": \"Coefficient of Variation CV= mean/standard deviation\"})\n",
    "plt.xlabel('Nodes')\n",
    "plt.ylabel('Nodes')\n",
    "plt.show()"
   ]
  },
  {
   "cell_type": "code",
   "execution_count": null,
   "metadata": {},
   "outputs": [],
   "source": [
    "G = make_graph(coefficient_of_variation/coefficient_of_variation.max())\n",
    "plot_graph_circos(G, sc_threshold=0.7)"
   ]
  },
  {
   "cell_type": "code",
   "execution_count": null,
   "metadata": {},
   "outputs": [],
   "source": []
  },
  {
   "source": [
    "# Degree"
   ],
   "cell_type": "markdown",
   "metadata": {}
  },
  {
   "cell_type": "code",
   "execution_count": null,
   "metadata": {},
   "outputs": [],
   "source": [
    "degree = np.array([df.loc[i, 'degree'].tolist() for i in range(27)])\n",
    "plt.figure(figsize = (18, 7))\n",
    "_ = sns.heatmap(degree, cmap='coolwarm', cbar=True, square=False, cbar_kws={\"label\": \"Normalized node strength values 1/N-1\"})\n",
    "plt.xlabel('Nodes')\n",
    "plt.ylabel('Subjects')\n",
    "plt.show()"
   ]
  },
  {
   "source": [
    "# Centrality"
   ],
   "cell_type": "markdown",
   "metadata": {}
  },
  {
   "cell_type": "code",
   "execution_count": null,
   "metadata": {},
   "outputs": [],
   "source": [
    "degree = np.array([df.loc[i, 'betweenness'] for i in range(27)])\n",
    "plt.figure(figsize = (18, 7))\n",
    "heatmap = sns.heatmap(degree, cmap='coolwarm', cbar=True, square=False, \n",
    "                      cbar_kws={\"label\": \"Normalized Betweenness Centrality\"})\n",
    "plt.xlabel('Nodes')\n",
    "plt.ylabel('Subjects')\n",
    "plt.show()"
   ]
  },
  {
   "cell_type": "code",
   "execution_count": null,
   "metadata": {},
   "outputs": [],
   "source": [
    "degree = np.array([df.loc[i, 'closeness'] for i in range(27)])\n",
    "plt.figure(figsize = (18, 7))\n",
    "heatmap = sns.heatmap(degree, cmap='coolwarm', cbar=True, square=False, \n",
    "                      cbar_kws={\"label\": \"Closeness Centrality\"})\n",
    "plt.xlabel('Nodes')\n",
    "plt.ylabel('Subjects')\n",
    "plt.show()"
   ]
  },
  {
   "source": [
    "# Average shortest path length"
   ],
   "cell_type": "markdown",
   "metadata": {}
  },
  {
   "cell_type": "code",
   "execution_count": null,
   "metadata": {},
   "outputs": [],
   "source": [
    "sns.violinplot(df['mean_shortest_path'].values)\n",
    "plt.xlabel('Shortest path length')\n",
    "plt.show()"
   ]
  },
  {
   "source": [
    "# Average degree of the neighborhood"
   ],
   "cell_type": "markdown",
   "metadata": {}
  },
  {
   "cell_type": "code",
   "execution_count": null,
   "metadata": {},
   "outputs": [],
   "source": [
    "degree = np.array([df.loc[i, 'neighbor_degree'] for i in range(27)])\n",
    "plt.figure(figsize = (18, 7))\n",
    "heatmap = sns.heatmap(degree, cmap='coolwarm', cbar=True, square=False, \n",
    "                      cbar_kws={\"label\": \"Average strength of the neighborhood\"}, vmin=75)\n",
    "plt.xlabel('Nodes')\n",
    "plt.ylabel('Subjects')\n",
    "plt.show()"
   ]
  },
  {
   "source": [
    "# Clustering Coefficient"
   ],
   "cell_type": "markdown",
   "metadata": {}
  },
  {
   "cell_type": "code",
   "execution_count": null,
   "metadata": {},
   "outputs": [],
   "source": [
    "degree = np.array([df.loc[i, 'clustering_coefficient'] for i in range(27)])\n",
    "plt.figure(figsize = (18, 7))\n",
    "heatmap = sns.heatmap(degree, cmap='coolwarm', cbar=True, square=False, \n",
    "                      cbar_kws={\"label\": \"Clustering Coefficient\"})\n",
    "plt.xlabel('Nodes')\n",
    "plt.ylabel('Subjects')\n",
    "plt.show()\t"
   ]
  },
  {
   "source": [
    "# Distribution of the graph measurements between participants"
   ],
   "cell_type": "markdown",
   "metadata": {}
  },
  {
   "cell_type": "code",
   "execution_count": null,
   "metadata": {},
   "outputs": [],
   "source": [
    "df_z = z_scores(df)\n",
    "df_corr = similarity_between_subjects(df)"
   ]
  },
  {
   "cell_type": "code",
   "execution_count": null,
   "metadata": {},
   "outputs": [],
   "source": [
    "plt.figure(figsize=(15,5))\n",
    "melted_df = pd.melt(df_z, id_vars=['subject'])\n",
    "sns.boxplot(data=melted_df, x='value', y='variable', showfliers=False)\n",
    "plt.xlabel('Z-score')\n",
    "plt.ylabel('')\n",
    "plt.title('Distribution of the graph measurements between participants')\n",
    "plt.show()"
   ]
  },
  {
   "cell_type": "code",
   "execution_count": null,
   "metadata": {},
   "outputs": [],
   "source": [
    "plt.figure(figsize=(15,5))\n",
    "melted_df = pd.melt(, id_vars=['subject'])\n",
    "sns.boxplot(data=melted_df, x='value', y='variable', showfliers=False)\n",
    "plt.xlabel('Correlation')\n",
    "plt.ylabel('')\n",
    "plt.title('Correlation to the average measurements')\n",
    "plt.show()"
   ]
  },
  {
   "source": [
    "# Classtermap"
   ],
   "cell_type": "markdown",
   "metadata": {}
  },
  {
   "cell_type": "code",
   "execution_count": null,
   "metadata": {},
   "outputs": [],
   "source": [
    "# Classtermap similarity between participants and measurements\n",
    "sns.clustermap(df_z.iloc[:, 1:])\n",
    "plt.show()"
   ]
  },
  {
   "source": [
    "# CircosPlot"
   ],
   "cell_type": "markdown",
   "metadata": {}
  },
  {
   "cell_type": "code",
   "execution_count": null,
   "metadata": {},
   "outputs": [],
   "source": [
    "# Structural connectivity average Cmap\n",
    "G = make_graph(df.loc[0, 'Cmat'])\n",
    "plot_graph_circos(G, sc_threshold=0.2)"
   ]
  },
  {
   "cell_type": "code",
   "execution_count": null,
   "metadata": {},
   "outputs": [],
   "source": [
    "# Structural connectivity subject 26\n",
    "G = make_graph(df.loc[22, 'Cmat'])\n",
    "plot_graph_circos(G, sc_threshold=0.2)"
   ]
  },
  {
   "source": [
    "# Minimum Spanning Trees"
   ],
   "cell_type": "markdown",
   "metadata": {}
  },
  {
   "cell_type": "code",
   "execution_count": null,
   "metadata": {},
   "outputs": [],
   "source": [
    "freq_mst = np.zeros_like(df.loc[0, 'backbone'])\n",
    "for i in range(1, 27):\n",
    "    freq_mst += df.loc[i, 'backbone']\n",
    "\n",
    "freq_mst /= 26"
   ]
  },
  {
   "cell_type": "code",
   "execution_count": null,
   "metadata": {},
   "outputs": [],
   "source": [
    "plt.figure(figsize = (18, 7))\n",
    "heatmap = sns.heatmap(freq_mst, cmap='coolwarm', cbar=True, square=True, \n",
    "                      cbar_kws={\"label\": \"Probability of the node to be in the minimum spanning trees\"})\n",
    "plt.xlabel('Nodes')\n",
    "plt.ylabel('Nodes')\n",
    "plt.show()"
   ]
  },
  {
   "cell_type": "code",
   "execution_count": null,
   "metadata": {},
   "outputs": [],
   "source": [
    "G = make_graph(freq_mst)\n",
    "plot_graph_circos(G)"
   ]
  },
  {
   "source": [
    "# Test models"
   ],
   "cell_type": "markdown",
   "metadata": {}
  },
  {
   "cell_type": "code",
   "execution_count": null,
   "metadata": {},
   "outputs": [],
   "source": [
    "from neurolib.models.aln import ALNModel\n",
    "model = ALNModel(Cmat=ds.Cmats[26], Dmat=ds.Dmats[26])\n",
    "model.params['dt'] = 0.1\n",
    "model.params['duration'] = 20 * 1000  # ms\n",
    "\n",
    "# add custom parameter for downsampling results\n",
    "# 10 ms sampling steps for saving data, should be multiple of dt\n",
    "model.params['save_dt'] = 10.0\n",
    "model.params[\"tauA\"] = 600.0\n",
    "model.params[\"sigma_ou\"] = 0.0\n",
    "model.params[\"b\"] = 20.0\n",
    "\n",
    "model.params[\"Ke_gl\"] = 300.0\n",
    "model.params[\"signalV\"] = 80.0\n",
    "model.params[\"mue_ext_mean\"] = 1.5\n",
    "model.params[\"mui_ext_mean\"] = 0.2\n"
   ]
  },
  {
   "cell_type": "code",
   "execution_count": null,
   "metadata": {},
   "outputs": [],
   "source": [
    "model.run()"
   ]
  },
  {
   "cell_type": "code",
   "execution_count": null,
   "metadata": {},
   "outputs": [],
   "source": [
    "model.output.shape"
   ]
  },
  {
   "cell_type": "code",
   "execution_count": null,
   "metadata": {},
   "outputs": [],
   "source": [
    "plt.plot(np.arange(0, 10000), model.output[56, 10000:10000*2])"
   ]
  },
  {
   "cell_type": "code",
   "execution_count": null,
   "metadata": {},
   "outputs": [],
   "source": [
    "plt.figure(figsize=(12, 6))\n",
    "plt.imshow(model.output[:, :10000], aspect='auto') # Aspect=1.2"
   ]
  },
  {
   "cell_type": "code",
   "execution_count": null,
   "metadata": {},
   "outputs": [],
   "source": []
  }
 ]
}