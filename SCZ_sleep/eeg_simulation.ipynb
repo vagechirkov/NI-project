{
 "metadata": {
  "language_info": {
   "codemirror_mode": {
    "name": "ipython",
    "version": 3
   },
   "file_extension": ".py",
   "mimetype": "text/x-python",
   "name": "python",
   "nbconvert_exporter": "python",
   "pygments_lexer": "ipython3",
   "version": "3.7.10"
  },
  "orig_nbformat": 4,
  "kernelspec": {
   "name": "python3",
   "display_name": "Python 3.7.10 64-bit ('neurolib': conda)"
  },
  "interpreter": {
   "hash": "e237310dbc9943d24dbb1eca31a1058f37cb70b7d8e9a919cf9ee6fd4aa06c45"
  }
 },
 "nbformat": 4,
 "nbformat_minor": 2,
 "cells": [
  {
   "cell_type": "code",
   "execution_count": null,
   "source": [
    "import matplotlib.pyplot as plt\n",
    "from ipywidgets import *\n",
    "import numpy as np\n",
    "import pandas as pd\n",
    "import seaborn as sns\n",
    "import scipy\n",
    "\n",
    "import mne\n",
    "\n",
    "# NB: add more subjects in the data folder in neurolib package\n",
    "from neurolib.utils.loadData import Dataset\n",
    "from neurolib.models.aln import ALNModel\n",
    "\n",
    "from neurolib.utils import functions as func\n",
    "\n",
    "import brainplot as bp\n",
    "\n",
    "from neurolib.utils import atlases\n",
    "from nilearn import plotting  \n",
    "atlas = atlases.AutomatedAnatomicalParcellation2()\n",
    "# AAL2 atlas is taken from here: https://github.com/cwatson/brainGraph\n",
    "aal2_atlas = pd.read_csv(\"aal2_coords.csv\")\n",
    "coords = aal2_atlas.loc[atlas.cortex, [\"x.mni\", \"y.mni\", \"z.mni\"]].to_numpy()\n",
    "\n",
    "\n",
    "from eeg_simulations import simulate_raw_eeg, find_peaks"
   ],
   "outputs": [],
   "metadata": {}
  },
  {
   "cell_type": "code",
   "execution_count": null,
   "source": [
    "# for n, i in enumerate(np.array(atlas.node_names)[atlas.cortex].tolist()):\n",
    "#     print(f\"{n}: '',  # '{i}'\")"
   ],
   "outputs": [],
   "metadata": {}
  },
  {
   "cell_type": "code",
   "execution_count": null,
   "source": [
    "# from mne.datasets import sample\n",
    "# import os.path as op\n",
    "# data_path = sample.data_path()\n",
    "# subjects_dir = op.join(data_path, 'subjects')\n",
    "# subject = 'sample'\n",
    "# meg_path = op.join(data_path, 'MEG', subject)"
   ],
   "outputs": [],
   "metadata": {}
  },
  {
   "cell_type": "code",
   "execution_count": null,
   "source": [
    "# labels = mne.read_labels_from_annot(subject, 'aparc.a2009s', subjects_dir=subjects_dir, verbose=False)\n",
    " #[l.name for l in labels]"
   ],
   "outputs": [],
   "metadata": {}
  },
  {
   "cell_type": "code",
   "execution_count": null,
   "source": [
    "ds = Dataset(\"gw\")\n",
    "# ds.Cmat = ds.Cmats[3]\n",
    "# ds.Dmat = ds.Dmats[3]\n",
    "model = ALNModel(Cmat=ds.Cmat, Dmat=ds.Dmat)\n",
    "\n",
    "# add custom parameter for downsampling results\n",
    "# 10 ms sampling steps for saving data, should be multiple of dt\n",
    "model.params['save_dt'] = 10.0\n",
    "model.params[\"tauA\"] = 600.0\n",
    "model.params[\"sigma_ou\"] = 0.0\n",
    "model.params[\"b\"] = 20.0\n",
    "\n",
    "model.params[\"Ke_gl\"] = 300.0\n",
    "model.params[\"mue_ext_mean\"] = 0.2\n",
    "model.params[\"mui_ext_mean\"] = 0.1\n",
    "\n",
    "# Sleep model from newest evolution October 2020\n",
    "model.params[\"mue_ext_mean\"] = 3.3202829454334535\n",
    "model.params[\"mui_ext_mean\"] = 3.682451894176651\n",
    "model.params[\"b\"] =  3.2021806735984186\n",
    "model.params[\"tauA\"] = 4765.3385276559875\n",
    "model.params[\"sigma_ou\"] = 0.36802952978628106\n",
    "model.params[\"Ke_gl\"] = 265.48075753153\n",
    "\n",
    "\n",
    "model.params['dt'] = 0.1\n",
    "model.params['duration'] = 10 * 60 * 1000 #ms\n",
    "model.params[\"signalV\"] = 80.0\n",
    "\n"
   ],
   "outputs": [],
   "metadata": {}
  },
  {
   "cell_type": "markdown",
   "source": [
    "# Run ALN model and save results"
   ],
   "metadata": {}
  },
  {
   "cell_type": "code",
   "execution_count": null,
   "source": [
    "# model.state_vars\n",
    "model.output_vars += ['seem', 'seev', 'mufe']\n",
    "model.run(bold=True, append=True)\n",
    "for key, val in model.outputs.items():\n",
    "    print(f\"{key} {val.shape}\")\n",
    "np.save(\"simultaion_dataset/aln_model.npy\", model.mufe)\n",
    "# data = np.load(\"simultaion_dataset/aln_model.npy\")\n",
    "local_peaks, global_peaks = find_peaks(model, model.output)\n",
    "np.save(\"simultaion_dataset/local_peaks.npy\", local_peaks)\n",
    "np.save(\"simultaion_dataset/global_peaks.npy\", global_peaks)"
   ],
   "outputs": [],
   "metadata": {}
  },
  {
   "cell_type": "code",
   "execution_count": null,
   "source": [
    "plt.figure(figsize=(10, 4))\n",
    "plt.imshow(model.outputs['seem'], aspect=\"auto\", extent=[0, model.t[-1] / 1000, model.params.N, 0],\n",
    "             cmap=\"plasma\") # clim=(0, 20),\n",
    "# cbar = plt.colorbar(extend='max', fraction=0.046, pad=0.04)\n",
    "# cbar.set_label(\"Rate $r_{exc}$ [Hz]\")\n",
    "plt.colorbar()\n",
    "plt.ylabel(\"Node\")\n",
    "plt.xlabel(\"Time [s]\")\n",
    "plt.tight_layout()\n",
    "plt.show()"
   ],
   "outputs": [],
   "metadata": {}
  },
  {
   "cell_type": "code",
   "execution_count": null,
   "source": [
    "plt.figure(figsize=(10, 4))\n",
    "plt.imshow(model.outputs['rates_exc'], aspect=\"auto\", extent=[0, model.t[-1] / 1000, model.params.N, 0],\n",
    "             cmap=\"plasma\") # clim=(0, 20),\n",
    "# cbar = plt.colorbar(xxtend='max', fraction=0.046, pad=0.04)\n",
    "# cbar.set_label(\"Rate $r_{exc}$ [Hz]\")\n",
    "plt.colorbar()\n",
    "plt.ylabel(\"Node\")\n",
    "plt.xlabel(\"Time [s]\")\n",
    "plt.tight_layout()\n",
    "plt.show()"
   ],
   "outputs": [],
   "metadata": {}
  },
  {
   "cell_type": "code",
   "execution_count": null,
   "source": [
    "plt.figure(figsize=(10, 4))\n",
    "plt.imshow(model.outputs['mufe'], aspect=\"auto\", extent=[0, model.t[-1] / 1000, model.params.N, 0],\n",
    "             cmap=\"plasma\") # clim=(0, 20),\n",
    "# cbar = plt.colorbar(xxtend='max', fraction=0.046, pad=0.04)\n",
    "# cbar.set_label(\"Rate $r_{exc}$ [Hz]\")\n",
    "plt.colorbar()\n",
    "plt.ylabel(\"Node\")\n",
    "plt.xlabel(\"Time [s]\")\n",
    "plt.tight_layout()\n",
    "plt.show()"
   ],
   "outputs": [],
   "metadata": {}
  },
  {
   "cell_type": "markdown",
   "source": [
    "# Run raw EEG simulation"
   ],
   "metadata": {}
  },
  {
   "cell_type": "code",
   "execution_count": null,
   "source": [
    "simulate_raw_eeg(\"/SCZ_sleep/simultaion_dataset/eeg_simulation.fif\", 10)\n"
   ],
   "outputs": [],
   "metadata": {}
  },
  {
   "cell_type": "markdown",
   "source": [
    "# Read results of the simulation"
   ],
   "metadata": {}
  },
  {
   "cell_type": "code",
   "execution_count": null,
   "source": [
    "raw = mne.io.read_raw_fif(\"simultaion_dataset/eeg_simulation.fif\")"
   ],
   "outputs": [],
   "metadata": {}
  },
  {
   "cell_type": "markdown",
   "source": [
    "# Plot raw"
   ],
   "metadata": {}
  },
  {
   "cell_type": "code",
   "execution_count": null,
   "source": [
    "%matplotlib qt5\n",
    "\n",
    "mne.viz.plot_raw(raw, block=True, n_channels=60, lowpass=15, highpass=0.1)"
   ],
   "outputs": [],
   "metadata": {}
  },
  {
   "cell_type": "markdown",
   "source": [
    "# Create epochs"
   ],
   "metadata": {}
  },
  {
   "cell_type": "code",
   "execution_count": null,
   "source": [
    "events = mne.events_from_annotations(raw)\n",
    "epochs = mne.Epochs(\n",
    "    raw, events[0], events[1], tmin=-2, tmax=2,\n",
    "    baseline=None, preload=True, reject_by_annotation=False,\n",
    "    proj=False, picks='eeg')\n",
    "\n",
    "# epochs['GP'].plot_image()\n",
    "# epochs['LP'].plot_image()"
   ],
   "outputs": [],
   "metadata": {}
  },
  {
   "cell_type": "markdown",
   "source": [
    "# Create evokes"
   ],
   "metadata": {}
  },
  {
   "cell_type": "code",
   "execution_count": null,
   "source": [
    "# evoked_GP = epochs['GP'][7].average() \n",
    "\n",
    "evoked_GP = epochs['GP'].average()\n",
    "evoked_LP = epochs['LP'].average()\n",
    "\n",
    "# times = np.arange(-2, 2, 0.1)\n",
    "# fig, anim = evoked_GP.animate_topomap(\n",
    "#     times=times, ch_type='eeg', frame_rate=4, time_unit='s', blit=False, show=False);\n",
    "# anim.save('GP_evoked.gif', writer='imagemagick')\n",
    "# evoked_GP.plot_topo();"
   ],
   "outputs": [],
   "metadata": {}
  },
  {
   "cell_type": "markdown",
   "source": [
    "# Plot evoked"
   ],
   "metadata": {}
  },
  {
   "cell_type": "code",
   "execution_count": null,
   "source": [
    "evoked_GP.plot_topomap([-1.5, -1, -0.5, 0, 0.5, 1, 1.5]);"
   ],
   "outputs": [],
   "metadata": {}
  },
  {
   "cell_type": "code",
   "execution_count": null,
   "source": [
    "%matplotlib inline\n",
    "evoked_GP.filter(0.1, 10)\n",
    "fig, ax = plt.subplots(figsize=(15, 5))\n",
    "evoked_GP.plot(axes=ax);"
   ],
   "outputs": [],
   "metadata": {}
  },
  {
   "cell_type": "code",
   "execution_count": null,
   "source": [
    "%matplotlib inline\n",
    "for ep in range(len(epochs['GP'])):\n",
    "    evoked_GP_one = epochs['GP'][ep].average()\n",
    "    evoked_GP_one.filter(0.1, 10)\n",
    "    fig, ax = plt.subplots(figsize=(10, 5))\n",
    "    evoked_GP_one.plot(axes=ax)\n",
    "    plt.show()"
   ],
   "outputs": [],
   "metadata": {}
  },
  {
   "cell_type": "code",
   "execution_count": null,
   "source": [
    "%matplotlib inline\n",
    "for ep in range(len(epochs['LP'])):\n",
    "    evoked_LP_one = epochs['LP'][ep].average()\n",
    "    evoked_LP_one.filter(0.1, 10)\n",
    "    fig, ax = plt.subplots(figsize=(10, 5))\n",
    "    evoked_LP_one.plot(axes=ax)\n",
    "    plt.show()"
   ],
   "outputs": [],
   "metadata": {}
  }
 ]
}