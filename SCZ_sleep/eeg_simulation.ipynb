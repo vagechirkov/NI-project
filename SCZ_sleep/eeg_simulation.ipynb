{
 "metadata": {
  "language_info": {
   "codemirror_mode": {
    "name": "ipython",
    "version": 3
   },
   "file_extension": ".py",
   "mimetype": "text/x-python",
   "name": "python",
   "nbconvert_exporter": "python",
   "pygments_lexer": "ipython3",
   "version": "3.7.10"
  },
  "orig_nbformat": 4,
  "kernelspec": {
   "name": "python3",
   "display_name": "Python 3.7.10 64-bit ('neurolib': conda)"
  },
  "interpreter": {
   "hash": "e237310dbc9943d24dbb1eca31a1058f37cb70b7d8e9a919cf9ee6fd4aa06c45"
  }
 },
 "nbformat": 4,
 "nbformat_minor": 2,
 "cells": [
  {
   "cell_type": "code",
   "execution_count": null,
   "metadata": {},
   "outputs": [],
   "source": [
    "import matplotlib.pyplot as plt\n",
    "from ipywidgets import *\n",
    "import numpy as np\n",
    "import pandas as pd\n",
    "import seaborn as sns\n",
    "import scipy\n",
    "\n",
    "import mne\n",
    "\n",
    "# NB: add more subjects in the data folder in neurolib package\n",
    "from neurolib.utils.loadData import Dataset\n",
    "from neurolib.models.aln import ALNModel\n",
    "\n",
    "from neurolib.utils import functions as func\n",
    "\n",
    "import brainplot as bp\n",
    "\n",
    "from neurolib.utils import atlases\n",
    "from nilearn import plotting  \n",
    "atlas = atlases.AutomatedAnatomicalParcellation2()\n",
    "# AAL2 atlas is taken from here: https://github.com/cwatson/brainGraph\n",
    "aal2_atlas = pd.read_csv(\"aal2_coords.csv\")\n",
    "coords = aal2_atlas.loc[atlas.cortex, [\"x.mni\", \"y.mni\", \"z.mni\"]].to_numpy()\n",
    "\n",
    "\n",
    "from eeg_simulations import simulate_raw_eeg, find_peaks"
   ]
  },
  {
   "cell_type": "code",
   "execution_count": null,
   "metadata": {},
   "outputs": [],
   "source": [
    "# for n, i in enumerate(np.array(atlas.node_names)[atlas.cortex].tolist()):\n",
    "#     print(f\"{n}: '',  # '{i}'\")"
   ]
  },
  {
   "cell_type": "code",
   "execution_count": null,
   "metadata": {},
   "outputs": [],
   "source": [
    "# from mne.datasets import sample\n",
    "# import os.path as op\n",
    "# data_path = sample.data_path()\n",
    "# subjects_dir = op.join(data_path, 'subjects')\n",
    "# subject = 'sample'\n",
    "# meg_path = op.join(data_path, 'MEG', subject)"
   ]
  },
  {
   "cell_type": "code",
   "execution_count": null,
   "metadata": {},
   "outputs": [],
   "source": [
    "# labels = mne.read_labels_from_annot(subject, 'aparc.a2009s', subjects_dir=subjects_dir, verbose=False)\n",
    " #[l.name for l in labels]"
   ]
  },
  {
   "cell_type": "code",
   "execution_count": null,
   "metadata": {},
   "outputs": [],
   "source": [
    "ds = Dataset(\"gw\")\n",
    "# ds.Cmat = ds.Cmats[3]\n",
    "# ds.Dmat = ds.Dmats[3]\n",
    "model = ALNModel(Cmat=ds.Cmat, Dmat=ds.Dmat)\n",
    "\n",
    "# add custom parameter for downsampling results\n",
    "# 10 ms sampling steps for saving data, should be multiple of dt\n",
    "model.params['save_dt'] = 10.0\n",
    "model.params[\"tauA\"] = 600.0\n",
    "model.params[\"sigma_ou\"] = 0.0\n",
    "model.params[\"b\"] = 20.0\n",
    "\n",
    "model.params[\"Ke_gl\"] = 300.0\n",
    "model.params[\"mue_ext_mean\"] = 0.2\n",
    "model.params[\"mui_ext_mean\"] = 0.1\n",
    "\n",
    "# Sleep model from newest evolution October 2020\n",
    "model.params[\"mue_ext_mean\"] = 3.3202829454334535\n",
    "model.params[\"mui_ext_mean\"] = 3.682451894176651\n",
    "model.params[\"b\"] =  3.2021806735984186\n",
    "model.params[\"tauA\"] = 4765.3385276559875\n",
    "model.params[\"sigma_ou\"] = 0.36802952978628106\n",
    "model.params[\"Ke_gl\"] = 265.48075753153\n",
    "\n",
    "\n",
    "model.params['dt'] = 0.1\n",
    "model.params['duration'] = 60 * 1000 #ms\n",
    "model.params[\"signalV\"] = 80.0\n",
    "\n"
   ]
  },
  {
   "cell_type": "code",
   "execution_count": null,
   "metadata": {},
   "outputs": [],
   "source": [
    "model.output_vars += model.state_vars"
   ]
  },
  {
   "cell_type": "code",
   "execution_count": null,
   "metadata": {},
   "outputs": [],
   "source": [
    "model.run(bold=True)"
   ]
  },
  {
   "cell_type": "code",
   "execution_count": null,
   "metadata": {},
   "outputs": [],
   "source": [
    "for key, val in model.outputs.items():\n",
    "    print(f\"{key} {val.shape}\")"
   ]
  },
  {
   "cell_type": "code",
   "execution_count": null,
   "metadata": {},
   "outputs": [],
   "source": [
    "plt.figure(figsize=(10, 4))\n",
    "plt.imshow(model.outputs['seem'], aspect=\"auto\", extent=[0, model.t[-1] / 1000, model.params.N, 0],\n",
    "             cmap=\"plasma\") # clim=(0, 20),\n",
    "cbar = plt.colorbar(extend='max', fraction=0.046, pad=0.04)\n",
    "cbar.set_label(\"Rate $r_{exc}$ [Hz]\")\n",
    "plt.ylabel(\"Node\")\n",
    "plt.xlabel(\"Time [s]\")\n",
    "plt.tight_layout()\n",
    "plt.show()"
   ]
  },
  {
   "cell_type": "code",
   "execution_count": null,
   "metadata": {},
   "outputs": [],
   "source": [
    "local_peaks, global_peaks = find_peaks(model, model.output)"
   ]
  },
  {
   "cell_type": "code",
   "execution_count": null,
   "metadata": {},
   "outputs": [],
   "source": [
    "%%time\n",
    "data = model.output.copy()\n",
    "data = (data.T - data.mean(axis=1)).T\n",
    "raw_sim, stc = simulate_raw_eeg(aal2_atlas, atlas.cortex, model.output)\n"
   ]
  },
  {
   "cell_type": "code",
   "execution_count": null,
   "metadata": {},
   "outputs": [],
   "source": [
    "raw = raw_sim.copy()"
   ]
  },
  {
   "cell_type": "code",
   "execution_count": null,
   "metadata": {},
   "outputs": [],
   "source": [
    "# %matplotlib qt5\n",
    "# raw.plot()"
   ]
  },
  {
   "cell_type": "code",
   "execution_count": null,
   "metadata": {},
   "outputs": [],
   "source": [
    "local_peaks_annot = mne.Annotations(onset=(local_peaks)/10000,  # in seconds\n",
    "                                    duration=[0.001]*len(local_peaks),  # in seconds, too\n",
    "                                    description=['LP']*len(local_peaks))\n",
    "global_peaks_annot = mne.Annotations(onset=(global_peaks)/10000,  # in seconds\n",
    "                                    duration=[0.001]*len(global_peaks),  # in seconds, too\n",
    "                                    description=['GP']*len(global_peaks))\n",
    "peaks_annot = local_peaks_annot + global_peaks_annot\n",
    "raw.set_annotations(peaks_annot)\n",
    "raw.info"
   ]
  },
  {
   "cell_type": "code",
   "execution_count": null,
   "metadata": {},
   "outputs": [],
   "source": [
    "raw.set_eeg_reference(ch_type='eeg')\n",
    "# raw.del_proj()\n",
    "raw = raw.resample(sfreq=100.)\n",
    "raw.pick_types(eeg=True)\n",
    "raw.info"
   ]
  },
  {
   "cell_type": "code",
   "execution_count": null,
   "metadata": {},
   "outputs": [],
   "source": [
    "%matplotlib qt5\n",
    "\n",
    "mne.viz.plot_raw(raw, block=True, n_channels=60);"
   ]
  },
  {
   "cell_type": "code",
   "execution_count": null,
   "metadata": {},
   "outputs": [],
   "source": [
    "raw.save('eeg_simulation.fif', overwrite=True)"
   ]
  },
  {
   "cell_type": "code",
   "execution_count": null,
   "metadata": {},
   "outputs": [],
   "source": [
    "events = mne.events_from_annotations(raw)\n",
    "epochs = mne.Epochs(\n",
    "    raw, events[0], events[1], tmin=-2, tmax=2,\n",
    "    baseline=None, preload=True, reject_by_annotation=False,\n",
    "    proj=False, picks='eeg')"
   ]
  },
  {
   "cell_type": "code",
   "execution_count": null,
   "metadata": {},
   "outputs": [],
   "source": [
    "epochs['GP'].plot_image()"
   ]
  },
  {
   "cell_type": "code",
   "execution_count": null,
   "metadata": {},
   "outputs": [],
   "source": [
    "epochs['LP'].plot_image()"
   ]
  },
  {
   "cell_type": "code",
   "execution_count": null,
   "metadata": {},
   "outputs": [],
   "source": [
    "evoked_GP = epochs['GP'][7].average() # epochs['GP'].average()"
   ]
  },
  {
   "cell_type": "code",
   "execution_count": null,
   "metadata": {},
   "outputs": [],
   "source": [
    "times = np.arange(-2, 2, 0.1)\n",
    "fig, anim = evoked_GP.animate_topomap(\n",
    "    times=times, ch_type='eeg', frame_rate=4, time_unit='s', blit=False, show=False);\n",
    "anim.save('GP_evoked.gif', writer='imagemagick')"
   ]
  },
  {
   "cell_type": "code",
   "execution_count": null,
   "metadata": {},
   "outputs": [],
   "source": [
    "evoked_GP.plot();"
   ]
  },
  {
   "cell_type": "code",
   "execution_count": null,
   "metadata": {},
   "outputs": [],
   "source": []
  },
  {
   "cell_type": "code",
   "execution_count": null,
   "metadata": {},
   "outputs": [],
   "source": []
  }
 ]
}