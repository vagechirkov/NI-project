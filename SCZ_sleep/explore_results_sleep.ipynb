{
 "metadata": {
  "language_info": {
   "codemirror_mode": {
    "name": "ipython",
    "version": 3
   },
   "file_extension": ".py",
   "mimetype": "text/x-python",
   "name": "python",
   "nbconvert_exporter": "python",
   "pygments_lexer": "ipython3",
   "version": "3.7.10"
  },
  "orig_nbformat": 4,
  "kernelspec": {
   "name": "python3",
   "display_name": "Python 3.7.10 64-bit ('neurolib': conda)"
  },
  "interpreter": {
   "hash": "e237310dbc9943d24dbb1eca31a1058f37cb70b7d8e9a919cf9ee6fd4aa06c45"
  }
 },
 "nbformat": 4,
 "nbformat_minor": 2,
 "cells": [
  {
   "cell_type": "code",
   "execution_count": null,
   "metadata": {},
   "outputs": [],
   "source": [
    "import logging\n",
    "import warnings\n",
    "\n",
    "import matplotlib.pyplot as plt\n",
    "import numpy as np\n",
    "import pandas as pd\n",
    "import seaborn as sns\n",
    "\n",
    "import neurolib.optimize.exploration.explorationUtils as eu\n",
    "import neurolib.utils.pypetUtils as pu\n",
    "from neurolib.optimize.exploration import BoxSearch\n",
    "\n",
    "logger = logging.getLogger()\n",
    "warnings.filterwarnings(\"ignore\")\n",
    "logger.setLevel(logging.INFO)\n",
    "\n",
    "results_path = \"/Users/valery/Google_Drive/NI-Project/data/hdf/\""
   ]
  },
  {
   "cell_type": "code",
   "execution_count": null,
   "metadata": {},
   "outputs": [],
   "source": [
    "from neurolib.models.aln import ALNModel\n",
    "from neurolib.utils.parameterSpace import ParameterSpace\n",
    "model = ALNModel()\n",
    "# define the parameter space to explore\n",
    "parameters = ParameterSpace({\"mue_ext_mean\": np.linspace(0, 3, 21),  # input to E\n",
    "\t\t\"mui_ext_mean\": np.linspace(0, 3, 21)}) # input to I\n",
    "\n",
    "# define exploration            \n",
    "search = BoxSearch(model, parameters)"
   ]
  },
  {
   "cell_type": "code",
   "execution_count": null,
   "metadata": {},
   "outputs": [],
   "source": [
    "pu.getTrajectorynamesInFile(results_path +  \"scz_sleep_reduce_abs_resolution-8.hdf\")"
   ]
  },
  {
   "cell_type": "code",
   "execution_count": null,
   "metadata": {},
   "outputs": [],
   "source": [
    "search.loadResults(\n",
    "    filename= results_path +  \"scz_sleep_reduce_abs_resolution-8.hdf\",\n",
    "    trajectoryName=\"results-2021-06-25-18H-59M-03S\")\n",
    "df = search.dfResults.copy()"
   ]
  },
  {
   "cell_type": "code",
   "execution_count": null,
   "metadata": {},
   "outputs": [],
   "source": [
    "search2 = BoxSearch(model, parameters)\n",
    "pu.getTrajectorynamesInFile(results_path +  \"scz_sleep_Jei_resolution-50.hdf\")\n"
   ]
  },
  {
   "cell_type": "code",
   "execution_count": null,
   "metadata": {},
   "outputs": [],
   "source": [
    "search2.loadResults(\n",
    "    filename=results_path +  \"scz_sleep_Jei_resolution-50.hdf\",\n",
    "    trajectoryName=\"results-2021-06-26-00H-40M-29S\")\n",
    "df2 = search2.dfResults.copy()"
   ]
  },
  {
   "cell_type": "code",
   "execution_count": null,
   "metadata": {},
   "outputs": [],
   "source": [
    "search3 = BoxSearch(model, parameters)\n",
    "pu.getTrajectorynamesInFile(results_path +  \"scz_sleep_resolution-50.hdf\")"
   ]
  },
  {
   "cell_type": "code",
   "execution_count": null,
   "metadata": {},
   "outputs": [],
   "source": [
    "search3.loadResults(\n",
    "    filename=results_path +  \"scz_sleep_resolution-50.hdf\",\n",
    "    trajectoryName=\"results-2021-06-25-08H-34M-46S\")\n",
    "df3 = search3.dfResults.copy()"
   ]
  },
  {
   "cell_type": "code",
   "execution_count": null,
   "metadata": {},
   "outputs": [],
   "source": [
    "search4 = BoxSearch(model, parameters)\n",
    "pu.getTrajectorynamesInFile(results_path +  \"scz_sleep_Jii_resolution-50.hdf\")"
   ]
  },
  {
   "cell_type": "code",
   "execution_count": null,
   "metadata": {},
   "outputs": [],
   "source": [
    "search4.loadResults(\n",
    "    filename=results_path +  \"scz_sleep_Jii_resolution-50.hdf\",\n",
    "    trajectoryName=\"results-2021-06-26-04H-08M-21S\")\n",
    "df4 = search4.dfResults.copy()"
   ]
  },
  {
   "cell_type": "code",
   "execution_count": null,
   "metadata": {},
   "outputs": [],
   "source": [
    "images = \"/Users/valery/Downloads/results/\""
   ]
  },
  {
   "cell_type": "code",
   "execution_count": null,
   "metadata": {},
   "outputs": [],
   "source": [
    "df3.loc[:, 'Global_SWS_per_min'] = df3.loc[:, 'n_global_waves']*3"
   ]
  },
  {
   "cell_type": "code",
   "execution_count": null,
   "metadata": {},
   "outputs": [],
   "source": [
    "eu.plotExplorationResults(\n",
    "    df, par1=['mue_ext_mean', 'Input to E [nA]'], par2=['Jie_max', 'Synaptic current from E to I [nA]'],\n",
    "    by=[\"Ke_gl\"], plot_key='SWS_per_min', plot_clim=[0, 25],\n",
    "    nan_to_zero=False, plot_key_label=\"SWS/min\", one_figure=True, savename=images + \"scz_sleep1.png\")\n",
    "eu.plotExplorationResults(\n",
    "    df, par1=['mue_ext_mean', 'Input to E [nA]'], par2=['Jie_max', 'Synaptic current from E to I [nA]'],\n",
    "    by=[\"Ke_gl\"], plot_key='perc_local_waves', plot_clim=[0, 100],\n",
    "    nan_to_zero=False, plot_key_label=\"'perc_local_waves'\", one_figure=True, savename=images + \"scz_sleep1_1.png\")\n",
    "eu.plotExplorationResults(\n",
    "    df, par1=['mue_ext_mean', 'Input to E [nA]'], par2=['Jei_max', 'Synaptic current from I to E [nA]'],\n",
    "    by=[\"Ke_gl\"], plot_key='SWS_per_min', plot_clim=[0, 25],\n",
    "    nan_to_zero=False, plot_key_label=\"SWS/min\", one_figure=True, savename=images + \"scz_sleep2.png\")\n",
    "eu.plotExplorationResults(\n",
    "    df, par1=['mue_ext_mean', 'Input to E [nA]'], par2=['Jii_max', 'Synaptic current from I to I [nA]'],\n",
    "    by=[\"Ke_gl\"], plot_key='SWS_per_min', plot_clim=[0, 25],\n",
    "    nan_to_zero=False, plot_key_label=\"SWS/min\", one_figure=True, savename=images + \"scz_slee3.png\")"
   ]
  },
  {
   "cell_type": "code",
   "execution_count": null,
   "metadata": {},
   "outputs": [],
   "source": [
    "df.columns"
   ]
  },
  {
   "cell_type": "code",
   "execution_count": null,
   "metadata": {},
   "outputs": [],
   "source": [
    "df.describe()"
   ]
  },
  {
   "cell_type": "code",
   "execution_count": null,
   "metadata": {},
   "outputs": [],
   "source": [
    "df_2 = df.loc[df['Ke_gl'] == 200.0, \n",
    "['mue_ext_mean', 'Ke_gl','Jie_max', 'Jei_max', 'Jii_max', 'SWS_per_min',\n",
    "'perc_local_waves', 'max_output', 'normalized_up_lengths_mean', 'n_global_waves'\n",
    "]].round(decimals=2)\n",
    "df_2['interactions'] = False\n",
    "dfdf = pd.DataFrame()\n",
    "for n, (jie, jei, jii) in enumerate(zip(df_2['Jie_max'].unique(), df_2['Jei_max'].unique(), df_2['Jii_max'].unique())):\n",
    "    mask = (df_2['Jie_max'] == jie) & (df_2['Jei_max'] == jei) & (df_2['Jii_max'] == jii)\n",
    "    df_2.loc[mask, 'interactions'] = True\n",
    "    df_2.loc[mask, 'J'] = 8 - n\n",
    "    dfdf.loc[8-n, ['Jie_max', 'Jei_max', 'Jii_max']] = jie, jei, jii\n",
    "df_2_interaction = df_2.loc[df_2['interactions'], :]\n",
    "df_2_interaction.loc[:, 'global_SWS_per_min'] = df_2_interaction.loc[:, 'n_global_waves'] *3\n",
    "dfdf"
   ]
  },
  {
   "cell_type": "code",
   "execution_count": null,
   "metadata": {},
   "outputs": [],
   "source": [
    "eu.plotExplorationResults(\n",
    "    df_2_interaction, par1=['mue_ext_mean', 'Input to E [nA]'], par2=['J', 'Decrease all J simultaneously'],\n",
    "    by=[\"Ke_gl\"], plot_key='SWS_per_min', plot_clim=[0, 40],\n",
    "    nan_to_zero=False, plot_key_label=\"SWS/min\", one_figure=True, savename=images + \"scz_sleep4.png\")\n",
    "\n",
    "eu.plotExplorationResults(\n",
    "    df_2_interaction, par1=['mue_ext_mean', 'Input to E [nA]'], par2=['J', 'Decrease all J simultaneously'],\n",
    "    by=[\"Ke_gl\"], plot_key='perc_local_waves', plot_clim=[0, 100],\n",
    "    nan_to_zero=False, plot_key_label=\"Fraction of the local waves %\", one_figure=True, savename=images + \"scz_sleep5.png\")\n",
    "\n",
    "eu.plotExplorationResults(\n",
    "    df_2_interaction, par1=['mue_ext_mean', 'Input to E [nA]'], par2=['J', 'Decrease all J simultaneously'],\n",
    "    by=[\"Ke_gl\"], plot_key='normalized_up_lengths_mean', plot_clim=[0, 100],\n",
    "    nan_to_zero=False, plot_key_label=\"Time spent in Up state %\", one_figure=True, savename=images + \"scz_sleep6.png\")"
   ]
  },
  {
   "cell_type": "code",
   "execution_count": null,
   "metadata": {},
   "outputs": [],
   "source": [
    "palette = sns.color_palette(\"hls\", 8)\n",
    "sns.relplot( # .relplot(\n",
    "    data=df_2_interaction[(df_2_interaction[\"Ke_gl\"] == 200.)],\n",
    "    x=\"mue_ext_mean\", y=\"SWS_per_min\",\n",
    "    hue='J',  # col='Jie_max', # size=\"choice\", size_order=[\"T1\", \"T2\"],\n",
    "    kind=\"line\",  # palette=palette,\n",
    "    # order=3,\n",
    "    height=5, aspect=1., legend=False, palette=palette\n",
    "    # facet_kws=dict(sharex=False),\n",
    ")\n",
    "plt.xlim([3.32,4.5])\n",
    "plt.ylim([0, 45])\n",
    "# plt.tight_layout()\n",
    "# plt.title('All SW / min')\n",
    "plt.gcf().subplots_adjust(bottom=0.15)\n",
    "plt.savefig(images + \"scz_sleep13.png\", dpi=100)\n",
    "\n",
    "palette = sns.color_palette(\"hls\", 8)\n",
    "sns.relplot(\n",
    "    data=df_2_interaction[(df_2_interaction[\"Ke_gl\"] == 200.)],\n",
    "    x=\"mue_ext_mean\", y=\"global_SWS_per_min\",\n",
    "    hue='J',  # col='Jie_max', # size=\"choice\", size_order=[\"T1\", \"T2\"],\n",
    "    kind=\"line\",  # palette=palette,\n",
    "    height=5, aspect=1., legend=\"full\",\n",
    "    palette=palette\n",
    "    # facet_kws=dict(sharex=False),\n",
    ")\n",
    "plt.xlim([3.32,4.5])\n",
    "plt.ylim([0, 45])\n",
    "# plt.tight_layout()\n",
    "plt.gcf().subplots_adjust(bottom=0.15)\n",
    "# plt.title('Global SW / min')\n",
    "plt.savefig(images + \"scz_sleep14.png\", dpi=100)"
   ]
  },
  {
   "cell_type": "code",
   "execution_count": null,
   "metadata": {},
   "outputs": [],
   "source": [
    "df3.columns"
   ]
  },
  {
   "cell_type": "code",
   "execution_count": null,
   "metadata": {},
   "outputs": [],
   "source": [
    "eu.plotExplorationResults(\n",
    "    df3, par1=['mue_ext_mean', 'Input to E [nA]'], par2=['Jie_max', 'Synaptic current from E to I [nA]'],\n",
    "    by=[\"Ke_gl\"], plot_key='SWS_per_min', plot_clim=[0, 40], # plot_clim=[0.0, 100.0],\n",
    "    contour=['perc_local_waves', 'normalized_up_lengths_mean'], \n",
    "    contour_color=[['white'], ['red']], contour_levels=[[70], [65]], contour_alpha=[1.0, 1.0],\n",
    "    contour_kwargs={0: {\"linewidths\": (2,)}, 1: {\"linewidths\": (2,)}},\n",
    "    nan_to_zero=False, plot_key_label=\"SWS/min\", one_figure=True, savename=images + \"scz_sleep9.png\")\n",
    "\n",
    "eu.plotExplorationResults(\n",
    "    df3, par1=['mue_ext_mean', 'Input to E [nA]'], par2=['Jie_max', 'Synaptic current from E to I [nA]'],\n",
    "    by=[\"Ke_gl\"], plot_key='frontal_SWS_per_min', plot_clim=[0, 40], # plot_clim=[0.0, 100.0],\n",
    "    contour=['frontal_perc_local_waves', 'frontalnormalized_up_lengths_mean'], \n",
    "    contour_color=[['white'], ['red']], contour_levels=[[70], [65]], contour_alpha=[1.0, 1.0],\n",
    "    contour_kwargs={0: {\"linewidths\": (2,)}, 1: {\"linewidths\": (2,)}},\n",
    "    nan_to_zero=False, plot_key_label=\"Frontal SWS/min\", one_figure=True, savename=images + \"scz_sleep9_1.png\")"
   ]
  },
  {
   "cell_type": "code",
   "execution_count": null,
   "metadata": {},
   "outputs": [],
   "source": [
    "sns.lmplot( # .relplot(\n",
    "    data=df3[(df3[\"Ke_gl\"] == 200.)&((df3['Jie_max'] < 1.4) | (df3['Jie_max'] == 2.6))].round(3),\n",
    "    x=\"mue_ext_mean\", y=\"SWS_per_min\",\n",
    "    hue='Jie_max',  # col='Jie_max', # size=\"choice\", size_order=[\"T1\", \"T2\"],\n",
    "    # kind=\"line\",  # palette=palette,\n",
    "    order=5,\n",
    "    height=5, aspect=1., legend=False,\n",
    "    # facet_kws=dict(sharex=False),\n",
    ")\n",
    "plt.xlim([3.32,4.5])\n",
    "plt.ylim([0, 45])\n",
    "# plt.tight_layout()\n",
    "# plt.title('All SW / min')\n",
    "plt.gcf().subplots_adjust(bottom=0.15)\n",
    "plt.savefig(images + \"scz_sleep11.png\", dpi=100)"
   ]
  },
  {
   "cell_type": "code",
   "execution_count": null,
   "metadata": {},
   "outputs": [],
   "source": [
    "sns.lmplot( # .relplot(\n",
    "    data=df3[(df3[\"Ke_gl\"] == 200.)&((df3['Jie_max'] < 1.4) | (df3['Jie_max'] == 2.6))].round(3),\n",
    "    x=\"mue_ext_mean\", y=\"Global_SWS_per_min\",\n",
    "    hue='Jie_max',  # col='Jie_max', # size=\"choice\", size_order=[\"T1\", \"T2\"],\n",
    "    # kind=\"line\",  # palette=palette,\n",
    "    order=5,\n",
    "    height=5, aspect=1., #  legend=\"full\"\n",
    "    # facet_kws=dict(sharex=False),\n",
    ")\n",
    "plt.xlim([3.32,4.5])\n",
    "plt.ylim([0, 45])\n",
    "# plt.tight_layout()\n",
    "plt.gcf().subplots_adjust(bottom=0.15)\n",
    "# plt.title('Global SW / min')\n",
    "plt.savefig(images + \"scz_sleep12.png\", dpi=100)"
   ]
  },
  {
   "cell_type": "code",
   "execution_count": null,
   "metadata": {},
   "outputs": [],
   "source": []
  }
 ]
}