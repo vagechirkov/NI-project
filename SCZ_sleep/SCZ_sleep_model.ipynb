{
 "metadata": {
  "language_info": {
   "codemirror_mode": {
    "name": "ipython",
    "version": 3
   },
   "file_extension": ".py",
   "mimetype": "text/x-python",
   "name": "python",
   "nbconvert_exporter": "python",
   "pygments_lexer": "ipython3",
   "version": "3.7.10"
  },
  "orig_nbformat": 4,
  "kernelspec": {
   "name": "python3",
   "display_name": "Python 3.7.10 64-bit ('neurolib': conda)"
  },
  "interpreter": {
   "hash": "e237310dbc9943d24dbb1eca31a1058f37cb70b7d8e9a919cf9ee6fd4aa06c45"
  }
 },
 "nbformat": 4,
 "nbformat_minor": 2,
 "cells": [
  {
   "cell_type": "code",
   "execution_count": null,
   "metadata": {},
   "outputs": [],
   "source": [
    "import logging\n",
    "import warnings\n",
    "\n",
    "import matplotlib.pyplot as plt\n",
    "import numpy as np\n",
    "import pandas as pd\n",
    "import seaborn as sns\n",
    "\n",
    "from neurolib.utils.loadData import Dataset\n",
    "from neurolib.models.aln import ALNModel\n",
    "import neurolib.optimize.exploration.explorationUtils as eu\n",
    "from neurolib.utils.parameterSpace import ParameterSpace\n",
    "\n",
    "from evaluation import param_search\n",
    "\n",
    "logger = logging.getLogger()\n",
    "warnings.filterwarnings(\"ignore\")\n",
    "logger.setLevel(logging.INFO)\n",
    "\n",
    "results_path = \"/Users/valery/Downloads/\""
   ]
  },
  {
   "source": [
    "### SEE: https://github.com/neurolib-dev/neurolib/blob/master/neurolib/models/aln/loadDefaultParams.py"
   ],
   "cell_type": "markdown",
   "metadata": {}
  },
  {
   "cell_type": "code",
   "execution_count": null,
   "metadata": {
    "tags": [
     "outputPrepend"
    ]
   },
   "outputs": [],
   "source": [
    "\n",
    "ds = Dataset(\"gw\")\n",
    "model = ALNModel(Cmat=ds.Cmat, Dmat=ds.Dmat)\n",
    "model.params['dt'] = 0.1\n",
    "model.params['duration'] = 20 * 1000  # ms\n",
    "\n",
    "# Sleep model from newest evolution October 2020\n",
    "model.params[\"b\"] = 3.2021806735984186\n",
    "model.params[\"tauA\"] = 4765.3385276559875\n",
    "model.params[\"sigma_ou\"] = 0.36802952978628106\n",
    "model.params[\"Ke_gl\"] = 265.48075753153\n",
    "model.params[\"signalV\"] = 80.0\n",
    "# model.params[\"mue_ext_mean\"] = 3.3202829454334535\n",
    "model.params[\"mui_ext_mean\"] = 3.682451894176651\n",
    "\n",
    "# add custom parameter for downsampling results\n",
    "# 10 ms sampling steps for saving data, should be multiple of dt\n",
    "model.params['save_dt'] = 10.0\n",
    "\n",
    "\n",
    "parameters = ParameterSpace(\n",
    "    {# Reduction of GABA levels (GABA inhibitory neurotransmitter)\n",
    "     # -> reduction of inhibitory weights\n",
    "     # \"mui_ext_mean\": np.linspace(3.68, 1, 10), # ???\n",
    "     # Increased excitability of excitatory neurons (compensating for NMDAR hypofunction at E population)\n",
    "     # -> increased mu_E\n",
    "     \"mue_ext_mean\": np.linspace(3.32, 5, 10),\n",
    "     # NMDA receptor hypofunction (preferentially at inhibitory interneurons)\n",
    "     # -> decreased E->I weight\n",
    "     # Maximum synaptic current from E to I\n",
    "     \"Jie_max\": np.linspace(2.6, 1, 10),\n",
    "     # General structural dysconnectivity -> reduction of global coupling\n",
    "     \"Ke_gl\": [200., 265.5] \n",
    "    })\n",
    "\n",
    "\n",
    "search = param_search(model, parameters, fname=results_path + \"scz_sleep.hdf\")\n"
   ]
  },
  {
   "cell_type": "code",
   "execution_count": null,
   "metadata": {},
   "outputs": [],
   "source": [
    "search.loadResults(filename=results_path + \"scz_sleep.hdf\", all=False)"
   ]
  },
  {
   "cell_type": "code",
   "execution_count": null,
   "metadata": {},
   "outputs": [],
   "source": [
    "eu.plotExplorationResults(search.dfResults,\n",
    "                          par1=['mue_ext_mean', 'Input to E [nA]'],\n",
    "                          par2=['Jei_max', 'Synaptic current from E to I [nA]'],\n",
    "                          by=[\"Ke_gl\"],\n",
    "                          plot_key='normalized_down_lengths_mean',\n",
    "                          plot_clim=[0.0, 100.0],\n",
    "                          nan_to_zero=False,\n",
    "                          plot_key_label=\"Number of local waves (%)\",\n",
    "                          one_figure=True,\n",
    "                          # multiply_axis=0.2,\n",
    "                          # contour=[\"max_amp_output\", \"up_down_difference\"],\n",
    "                          # contour_color=[['white'], ['springgreen']],\n",
    "                          # contour_levels=[[10], [10]],\n",
    "                          # contour_alpha=[1.0, 1.0],\n",
    "                          # contour_kwargs={0: {\"linewidths\": (5,)},\n",
    "                          #                 1: {\"linestyles\": \"--\",\n",
    "                          #                     \"linewidths\": (5,)}},\n",
    "                          # # alpha_mask=\"relative_amplitude_BOLD\",\n",
    "                          # mask_threshold=0.1,\n",
    "                          # mask_alpha=0.2,\n",
    "                          savename=results_path + \"scz_sleep.pdf\")"
   ]
  },
  {
   "cell_type": "code",
   "execution_count": null,
   "metadata": {},
   "outputs": [],
   "source": [
    "search.dfResults.columns"
   ]
  },
  {
   "cell_type": "code",
   "execution_count": null,
   "metadata": {},
   "outputs": [],
   "source": []
  }
 ]
}