{
 "metadata": {
  "language_info": {
   "codemirror_mode": {
    "name": "ipython",
    "version": 3
   },
   "file_extension": ".py",
   "mimetype": "text/x-python",
   "name": "python",
   "nbconvert_exporter": "python",
   "pygments_lexer": "ipython3",
   "version": "3.7.10"
  },
  "orig_nbformat": 4,
  "kernelspec": {
   "name": "python3",
   "display_name": "Python 3.7.10 64-bit ('neurolib': conda)"
  },
  "interpreter": {
   "hash": "e237310dbc9943d24dbb1eca31a1058f37cb70b7d8e9a919cf9ee6fd4aa06c45"
  }
 },
 "nbformat": 4,
 "nbformat_minor": 2,
 "cells": [
  {
   "cell_type": "code",
   "execution_count": null,
   "metadata": {},
   "outputs": [],
   "source": [
    "import matplotlib.pyplot as plt\n",
    "from ipywidgets import *\n",
    "import numpy as np\n",
    "import pandas as pd\n",
    "import seaborn as sns\n",
    "import scipy\n",
    "\n",
    "# NB: add more subjects in the data folder in neurolib package\n",
    "from neurolib.utils.loadData import Dataset\n",
    "from neurolib.models.aln import ALNModel\n",
    "\n",
    "from neurolib.utils import functions as func\n",
    "\n",
    "import brainplot as bp\n",
    "\n",
    "plt.style.use('seaborn')\n",
    "# sns.set_style(\"whitegrid\")\n",
    "sns.set_style(\"white\")\n",
    "sns.set_context(\"talk\")"
   ]
  },
  {
   "cell_type": "code",
   "execution_count": null,
   "metadata": {},
   "outputs": [],
   "source": [
    "ds = Dataset(\"gw\")\n",
    "# ds.Cmat = ds.Cmats[3]\n",
    "# ds.Dmat = ds.Dmats[3]\n",
    "model = ALNModel(Cmat=ds.Cmat, Dmat=ds.Dmat)\n",
    "\n",
    "# add custom parameter for downsampling results\n",
    "# 10 ms sampling steps for saving data, should be multiple of dt\n",
    "model.params['save_dt'] = 10.0\n",
    "model.params[\"tauA\"] = 600.0\n",
    "model.params[\"sigma_ou\"] = 0.0\n",
    "model.params[\"b\"] = 20.0\n",
    "\n",
    "model.params[\"Ke_gl\"] = 300.0\n",
    "model.params[\"mue_ext_mean\"] = 0.2\n",
    "model.params[\"mui_ext_mean\"] = 0.1\n",
    "\n",
    "# Sleep model from newest evolution October 2020\n",
    "model.params[\"mue_ext_mean\"] = 3.3202829454334535\n",
    "model.params[\"mui_ext_mean\"] = 3.682451894176651\n",
    "model.params[\"b\"] =  3.2021806735984186\n",
    "model.params[\"tauA\"] = 4765.3385276559875\n",
    "model.params[\"sigma_ou\"] = 0.36802952978628106\n",
    "model.params[\"Ke_gl\"] = 265.48075753153\n",
    "\n",
    "\n",
    "model.params['dt'] = 0.1\n",
    "model.params['duration'] = 60 * 1000 #ms\n",
    "model.params[\"signalV\"] = 80.0\n",
    "\n",
    "model.run(bold=True)"
   ]
  },
  {
   "cell_type": "code",
   "execution_count": null,
   "metadata": {},
   "outputs": [],
   "source": [
    "%matplotlib widget\n",
    "plt.figure(figsize=(10, 4))\n",
    "plt.imshow(model.output, aspect=\"auto\", extent=[0, model.t[-1] / 1000, model.params.N, 0],\n",
    "            clim=(0, 20), cmap=\"plasma\")\n",
    "cbar = plt.colorbar(extend='max', fraction=0.046, pad=0.04)\n",
    "cbar.set_label(\"Rate $r_{exc}$ [Hz]\")\n",
    "plt.ylabel(\"Node\")\n",
    "plt.xlabel(\"Time [s]\")\n",
    "plt.tight_layout()\n",
    "plt.show()"
   ]
  },
  {
   "cell_type": "code",
   "execution_count": null,
   "metadata": {},
   "outputs": [],
   "source": [
    "states = bp.detectSWs(model)"
   ]
  },
  {
   "cell_type": "code",
   "execution_count": null,
   "metadata": {},
   "outputs": [],
   "source": [
    "bp.plot_states_timeseries(model, states, cmap=\"plasma\")"
   ]
  },
  {
   "cell_type": "code",
   "execution_count": null,
   "metadata": {},
   "outputs": [],
   "source": [
    "involvement = bp.get_involvement(states)"
   ]
  },
  {
   "cell_type": "code",
   "execution_count": null,
   "metadata": {},
   "outputs": [],
   "source": [
    "def plot_involvement_timeseries(model, involvement, peaks=[], local_peaks=[]):\n",
    "    fig, ax = plt.subplots(1, 1, figsize=(10, 4))\n",
    "    ax.set_title(\"Involvement of brain areas in SO events\")\n",
    "    ax.plot(model.t / 1000, involvement * 100, c=\"C0\")\n",
    "    ax.set_ylabel(\"Involvement [%]\")\n",
    "    ax.set_xlabel(\"Time [s]\")\n",
    "    ax.set_ylim([0, 100])\n",
    "    ax.set_aspect(\"auto\")\n",
    "    if len(peaks) != 0:\n",
    "        for peak in (peaks):\n",
    "            ax.scatter(x=peak / 10000, y=involvement[peak] * 100, c='r')\n",
    "    if len(local_peaks) != 0:\n",
    "        for peak in (local_peaks):\n",
    "            ax.scatter(x=peak / 10000, y=involvement[peak] * 100, c='g')\n",
    "            # ax.text(x=peak / 10000, y=involvement[peak] * 100, s = f\"{involvement[peak] * 100:.0f}\")"
   ]
  },
  {
   "cell_type": "code",
   "execution_count": null,
   "metadata": {},
   "outputs": [],
   "source": [
    "plot_involvement_timeseries(model, involvement)"
   ]
  },
  {
   "cell_type": "code",
   "execution_count": null,
   "metadata": {},
   "outputs": [],
   "source": [
    "filtered_involvement = scipy.ndimage.gaussian_filter1d(involvement, 2000)"
   ]
  },
  {
   "cell_type": "code",
   "execution_count": null,
   "metadata": {},
   "outputs": [],
   "source": [
    "plot_involvement_timeseries(model, filtered_involvement)"
   ]
  },
  {
   "cell_type": "code",
   "execution_count": null,
   "metadata": {},
   "outputs": [],
   "source": [
    "peaks = scipy.signal.find_peaks(\n",
    "        filtered_involvement, height=0.1, distance=1000)[0]"
   ]
  },
  {
   "cell_type": "code",
   "execution_count": null,
   "metadata": {},
   "outputs": [],
   "source": [
    "plot_involvement_timeseries(model, filtered_involvement, peaks=peaks)"
   ]
  },
  {
   "cell_type": "code",
   "execution_count": null,
   "metadata": {},
   "outputs": [],
   "source": [
    "def filter_peaks(peaks, inv, t_max, t_min=0):\n",
    "    return [p for p in peaks if (inv[p] > t_min and inv[p] <= t_max)]\n",
    "\n",
    "peaks25 = filter_peaks(peaks, involvement, 0.50, 0.0)\n",
    "n_local_waves = len(peaks25)\n",
    "peaks50 = filter_peaks(peaks, involvement, 0.75, 0.50)\n",
    "peaks75 = filter_peaks(peaks, involvement, 1, 0.75)\n",
    "n_global_waves = len(peaks50 + peaks75)"
   ]
  },
  {
   "cell_type": "code",
   "execution_count": null,
   "metadata": {},
   "outputs": [],
   "source": [
    "plot_involvement_timeseries(model, filtered_involvement, peaks=peaks50+peaks75, local_peaks=peaks25)"
   ]
  },
  {
   "cell_type": "code",
   "execution_count": null,
   "metadata": {},
   "outputs": [],
   "source": [
    "from neurolib.utils import atlases\n",
    "from nilearn import plotting  \n",
    "atlas = atlases.AutomatedAnatomicalParcellation2()\n",
    "# AAL2 atlas is taken from here: https://github.com/cwatson/brainGraph\n",
    "aal2_atlas = pd.read_csv(\"aal2_coords.csv\")\n",
    "coords = aal2_atlas.loc[atlas.cortex, [\"x.mni\", \"y.mni\", \"z.mni\"]].to_numpy()\n",
    "fig, ax = plt.subplots(figsize=(10, 4))\n",
    "# display = plotting.plot_glass_brain(None)\n",
    "plotting.plot_markers(\n",
    "    node_coords=coords, node_values=[1]*80,node_size=[150]*80, \n",
    "    node_cmap=\"plasma\", \n",
    "    figure=fig, axes=ax)"
   ]
  },
  {
   "cell_type": "code",
   "execution_count": null,
   "metadata": {},
   "outputs": [],
   "source": [
    "%matplotlib widget\n",
    "#pip install ipympl\n",
    "fig, ax = plt.subplots(2, 1, figsize=(10, 8))\n",
    "\n",
    "ax[0].set_title(\"Involvement of brain areas in SO events\")\n",
    "ax[0].plot(model.t / 1000, filtered_involvement * 100, c=\"C0\")\n",
    "ax[0].set_ylabel(\"Involvement [%]\")\n",
    "ax[0].set_xlabel(\"Time [s]\")\n",
    "ax[0].set_ylim([0, 100])\n",
    "ax[0].set_aspect(\"auto\")\n",
    "\n",
    "for peak in (peaks):\n",
    "    ax[0].scatter(x=peak / 10000, y=filtered_involvement[peak] * 100, c='r')\n",
    "line = ax[0].axvline(x=1, c='r')\n",
    "\n",
    "\n",
    "\n",
    "def update(i=1):\n",
    "    ax[1].clear()\n",
    "    line.set_xdata(i/10000)\n",
    "    display = plotting.plot_markers(\n",
    "    node_coords=coords, node_values=states[:, i],\n",
    "    node_size=[150]*80, node_cmap=\"plasma\",\n",
    "    figure=fig, axes=ax[1], colorbar=False)\n",
    "    fig.canvas.draw_idle()\n",
    "\n",
    "interact(\n",
    "    update, i=SelectionSlider(\n",
    "    options=peaks,\n",
    "    value=peaks[0],\n",
    "    disabled=False)\n",
    "    );"
   ]
  },
  {
   "cell_type": "code",
   "execution_count": null,
   "metadata": {},
   "outputs": [],
   "source": [
    "%matplotlib widget\n",
    "from matplotlib import animation, rc\n",
    "#pip install ipympl\n",
    "\n",
    "rc('animation', html='html5')\n",
    "\n",
    "fig, ax = plt.subplots(2, 1, figsize=(10, 8))\n",
    "\n",
    "def init():\n",
    "    global line\n",
    "    ax[0].set_title(\"Involvement of brain areas in SO events\")\n",
    "    ax[0].plot(model.t / 1000, filtered_involvement * 100, c=\"C0\")\n",
    "    ax[0].set_ylabel(\"Involvement [%]\")\n",
    "    ax[0].set_xlabel(\"Time [s]\")\n",
    "    ax[0].set_ylim([0, 100])\n",
    "    ax[0].set_aspect(\"auto\")\n",
    "\n",
    "    for peak in (peaks):\n",
    "        ax[0].scatter(x=peak / 10000, y=filtered_involvement[peak] * 100, c='r')\n",
    "    line = ax[0].axvline(x=1, c='r')\n",
    "\n",
    "def update(i=1):\n",
    "    ax[1].clear()\n",
    "    line.set_xdata(peaks[i]/10000)\n",
    "    display = plotting.plot_markers(\n",
    "    node_coords=coords, node_values=states[:, peaks[i]],\n",
    "    node_size=[150]*80, node_cmap=\"plasma\",\n",
    "    figure=fig, axes=ax[1], colorbar=False)\n",
    "    fig.canvas.draw_idle()\n",
    "\n",
    "anim = animation.FuncAnimation(fig, update, init_func=init,\n",
    "                               frames=len(peaks), interval=20, blit=True)\n",
    "anim.save('all_peaks_involvement_brain_plot.gif', writer='imagemagick', fps=3)"
   ]
  },
  {
   "cell_type": "code",
   "execution_count": null,
   "metadata": {},
   "outputs": [],
   "source": [
    "%matplotlib widget\n",
    "from matplotlib import animation, rc\n",
    "#pip install ipympl\n",
    "\n",
    "rc('animation', html='html5')\n",
    "\n",
    "fig, ax = plt.subplots(2, 1, figsize=(15, 8))\n",
    "\n",
    "\n",
    "inv_states = (1 - states) * -1\n",
    "\n",
    "def init():\n",
    "    global line\n",
    "    ax[0].set_title(\"States timeseries\")\n",
    "    ax[0].imshow(model.output, aspect=\"auto\", extent=[0, model.t[-1] / 1000, model.params.N, 0],\n",
    "                 clim=(0, 20), cmap=\"plasma\")\n",
    "    ax[0].set_ylabel(\"Node\")\n",
    "    ax[0].set_xlabel(\"Time [s]\")\n",
    "    # ax[0].set_ylim([0, 100])\n",
    "    line = ax[0].axvline(x=1, c='r')\n",
    "\n",
    "def update(i=1):\n",
    "    ax[1].clear()\n",
    "    line.set_xdata(peaks[i]/10000)\n",
    "    display = plotting.plot_markers(\n",
    "    node_coords=coords, node_values=states[:, peaks[i]],\n",
    "    node_size=[150]*80, node_cmap=\"plasma\",\n",
    "    figure=fig, axes=ax[1], colorbar=False)\n",
    "    fig.canvas.draw_idle()\n",
    "\n",
    "anim = animation.FuncAnimation(fig, update, init_func=init,\n",
    "                               frames=len(peaks), interval=20, blit=True)\n",
    "anim.save('all_peaks_ts_brain_plot.gif', writer='imagemagick', fps=3)"
   ]
  },
  {
   "cell_type": "code",
   "execution_count": null,
   "metadata": {},
   "outputs": [],
   "source": [
    "from sklearn.cluster import AgglomerativeClustering\n",
    "\n",
    "X = np.array([coords[i, :] for i in range(80) if states[i, peaks[0]] == 0])\n",
    "clustering = AgglomerativeClustering(n_clusters=None, distance_threshold=50).fit(X)\n",
    "clustering\n",
    "\n",
    "clustering.labels_"
   ]
  },
  {
   "cell_type": "code",
   "execution_count": null,
   "metadata": {},
   "outputs": [],
   "source": [
    "values, counts = np.unique(clustering.labels_, return_counts=True)\n",
    "values, counts"
   ]
  },
  {
   "cell_type": "code",
   "execution_count": null,
   "metadata": {},
   "outputs": [],
   "source": [
    "plotting.plot_markers(\n",
    "    node_coords=X, node_values=clustering.labels_/values.max(),\n",
    "    node_cmap=\"plasma\")"
   ]
  },
  {
   "cell_type": "code",
   "execution_count": null,
   "metadata": {},
   "outputs": [],
   "source": [
    "%matplotlib widget\n",
    "#pip install ipympl\n",
    "fig, ax = plt.subplots( 1, figsize=(10, 4))\n",
    "\n",
    "\n",
    "\n",
    "def update(i=1):\n",
    "    fig.clear()\n",
    "\n",
    "    statesi = states[:, i]\n",
    "    X = np.array([coords[n, :] for n in range(80) if statesi[n] == 0])\n",
    "    clustering = AgglomerativeClustering(n_clusters=None, distance_threshold=150).fit(X)\n",
    "    labels = clustering.labels_\n",
    "    values, counts = np.unique(labels, return_counts=True)\n",
    "    mask = labels != values[counts.argmax()]\n",
    "    node_values = np.zeros_like(labels)\n",
    "    node_values[mask] = 1\n",
    "    # statesi[statesi == 0][labels != values[counts.argmax()]] = 0.5\n",
    "    print(sum(labels == values[counts.argmax()]))\n",
    "    display = plotting.plot_markers(\n",
    "    node_coords=X, node_values=node_values,\n",
    "    node_cmap=\"plasma\", # node_size=[150]*80\n",
    "    figure=fig, axes=ax, colorbar=False)\n",
    "    fig.canvas.draw_idle()\n",
    "\n",
    "interact(\n",
    "    update, i=SelectionSlider(\n",
    "    options=peaks,\n",
    "    value=peaks[0],\n",
    "    disabled=False)\n",
    "    );"
   ]
  },
  {
   "cell_type": "code",
   "execution_count": null,
   "metadata": {},
   "outputs": [],
   "source": []
  }
 ]
}